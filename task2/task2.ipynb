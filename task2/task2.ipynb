{
 "cells": [
  {
   "cell_type": "code",
   "execution_count": 40,
   "id": "0598a98f",
   "metadata": {},
   "outputs": [],
   "source": [
    "import scipy.stats as stat\n",
    "import matplotlib.pyplot as plt\n",
    "import numpy as np\n",
    "import math\n",
    "import itertools"
   ]
  },
  {
   "cell_type": "code",
   "execution_count": 2,
   "id": "5c2a43ad",
   "metadata": {},
   "outputs": [],
   "source": [
    "def print_statistics(data):\n",
    "    print(f'Expectation: {np.mean(data)}')\n",
    "    print(f'Variance: {np.var(data)}')\n",
    "    print(f'Median: {(data[99] + data[100]) / 2}')\n",
    "    print(f'1/4 and 1/3 quantil: {np.quantile(data, 1/4)}, {np.quantile(data, 1/3)}')\n",
    "    print(f'Corrected variance: {np.var(data) * n / (n - 1)}')\n",
    "    print(f'Skewness: {stat.kstat(data, 3) / stat.kstat(data, 2) ** 1.5}')\n",
    "    print(f'Excess: {stat.moment(data, 4) / stat.moment(data, 2) ** 2}')\n",
    "    print(f'Variation coef: { np.var(data)**0.5 / np.mean(data)}')    "
   ]
  },
  {
   "cell_type": "code",
   "execution_count": 3,
   "id": "2b2a938c",
   "metadata": {},
   "outputs": [],
   "source": [
    "def get_truncated_normal(mean=0, sd=1, low=0, upp=10):\n",
    "    return stat.truncnorm( (low - mean) / sd, (upp - mean) / sd, loc=mean, scale=sd)"
   ]
  },
  {
   "cell_type": "code",
   "execution_count": 4,
   "id": "b3977f9f",
   "metadata": {},
   "outputs": [],
   "source": [
    "def generate_poission(n, lambd, a, b):\n",
    "    poisson = np.random.default_rng().poisson(lambd, n * 5)\n",
    "    return np.extract(np.logical_and(a <= poisson, poisson <= b), poisson)\n",
    "def generate_exponential(n, lambd, a, b):\n",
    "    exp = np.random.default_rng().exponential(lambd, n * 13)\n",
    "    return np.extract(np.logical_and(a <= exp, exp <= b), exp)\n",
    "def generate_cauchy(n, shift, sscale, a, b):\n",
    "    cauchy = stat.cauchy.rvs(loc=shift, scale=sscale, size=n * 50)\n",
    "    return np.extract(np.logical_and(a <= cauchy, cauchy <= b), cauchy)"
   ]
  },
  {
   "cell_type": "code",
   "execution_count": 114,
   "id": "7dbe69da",
   "metadata": {},
   "outputs": [],
   "source": [
    "def conf_interval_exp(data, alpha, var):\n",
    "    point_expectation = np.mean(data)\n",
    "    u_half_alpha = -stat.norm.ppf(alpha / 2)\n",
    "    \n",
    "    mu_lower = point_expectation - u_half_alpha * (var / n)**0.5\n",
    "    mu_higher = point_expectation + u_half_alpha * (var / n)**0.5\n",
    "    return mu_lower, mu_higher\n",
    "\n",
    "def conf_interval_var(data, n, alpha):\n",
    "    s2 = np.var(data) * n / (n - 1)\n",
    "    df = n - 1\n",
    "    chi2_half_alpha = stat.chi2.ppf(alpha / 2, df)\n",
    "    chi2_one_minus_half_alpha = stat.chi2.ppf(1 - alpha / 2, df)\n",
    "\n",
    "    sigma2_lower = (n - 1) * s2 / chi2_one_minus_half_alpha\n",
    "    sigma2_higher = (n - 1) * s2 / chi2_half_alpha\n",
    "    return sigma2_lower, sigma2_higher\n",
    "\n",
    "def conf_interval_exp_student(data, n, alpha):\n",
    "    point_expectation = np.mean(data)\n",
    "    s2 = np.std(data) * n / (n - 1)\n",
    "    t_half_alpha = -stat.t.ppf(q=alpha / 2, df=n-1)\n",
    "    \n",
    "    mu_lower = point_expectation - t_half_alpha * (s2 / n)**0.5\n",
    "    mu_higher = point_expectation + t_half_alpha * (s2 / n)**0.5\n",
    "    return mu_lower, mu_higher\n"
   ]
  },
  {
   "cell_type": "code",
   "execution_count": 158,
   "id": "0400d9dc",
   "metadata": {},
   "outputs": [],
   "source": [
    "def in_range(x, interval):\n",
    "    a, b = interval\n",
    "    if a <= x <= b:\n",
    "        return True\n",
    "    return False\n",
    "def pairwise(iterable):\n",
    "    \"s -> (s0, s1), (s1, s2), (s2, s3), ...\"\n",
    "    a, b = itertools.tee(iterable)\n",
    "    next(b, None)\n",
    "    return zip(a, b)\n",
    "\n",
    "def group_data(data, k):\n",
    "    x0 = math.floor(min(data))\n",
    "    xn = math.ceil(max(data))\n",
    "    bounds = [x0 + i * (xn - x0) / k for i in range(k + 1)]\n",
    "    intervals = list(pairwise(bounds))\n",
    "    invervals_mids = [(a + b) / 2 for (a, b) in intervals]\n",
    "    grouped = np.zeros(np.size(data))\n",
    "    for i in range(np.size(data)):\n",
    "        entry_group = [j for j in range(k) if in_range(data[i], intervals[j])][0]\n",
    "        grouped[i] = invervals_mids[entry_group]\n",
    "    \n",
    "    _, counts = np.unique(grouped, return_counts=True)\n",
    "    scaled_counts = [x / sum(counts) for x in counts]\n",
    "    plt.bar(invervals_mids, [x / (bounds[1] - bounds[0]) for x in scaled_counts], \n",
    "            width = bounds[1] - bounds[0],\n",
    "            edgecolor='red')\n",
    "    plt.show()\n",
    "    return grouped"
   ]
  },
  {
   "cell_type": "code",
   "execution_count": 5,
   "id": "abbb987c",
   "metadata": {},
   "outputs": [
    {
     "data": {
      "image/png": "[encoded data removed]",
      "text/plain": [
       "<Figure size 432x288 with 1 Axes>"
      ]
     },
     "metadata": {
      "needs_background": "light"
     },
     "output_type": "display_data"
    },
    {
     "name": "stdout",
     "output_type": "stream",
     "text": [
      "Expectation: 6.091356001749419\n",
      "Variance: 0.33144250612670745\n",
      "Median: 5.448091892116051\n",
      "1/4 and 1/3 quantil: 5.599495846299888, 5.802833946721292\n",
      "Corrected variance: 0.33310804635849994\n",
      "Skewness: -0.16272941155848572\n",
      "Excess: 1.8123736433997117\n",
      "Variation coef: 0.0945126891025713\n"
     ]
    }
   ],
   "source": [
    "n = 200\n",
    "a = 5\n",
    "b = 7\n",
    "gauss_exp = 17\n",
    "gauss_var = 22\n",
    "gauss = get_truncated_normal(gauss_exp, gauss_var**0.5, a, b) # 2nd param is standard deviation, not variance\n",
    "gauss_sample = gauss.rvs(n)\n",
    "plt.hist(gauss_sample)\n",
    "plt.title(f'Gauss $n = {n}$, $\\mu = {gauss_exp}$, $\\sigma^2 = {gauss_var}$')\n",
    "plt.show()\n",
    "print_statistics(gauss_sample)"
   ]
  },
  {
   "cell_type": "code",
   "execution_count": 6,
   "id": "de8b85d1",
   "metadata": {},
   "outputs": [
    {
     "data": {
      "image/png": "[encoded data removed]",
      "text/plain": [
       "<Figure size 432x288 with 1 Axes>"
      ]
     },
     "metadata": {
      "needs_background": "light"
     },
     "output_type": "display_data"
    },
    {
     "name": "stdout",
     "output_type": "stream",
     "text": [
      "Expectation: 6.31\n",
      "Variance: 0.5839000000000001\n",
      "Median: 6.0\n",
      "1/4 and 1/3 quantil: 6.0, 6.0\n",
      "Corrected variance: 0.5868341708542715\n",
      "Skewness: -0.5935041211872453\n",
      "Excess: 1.9357772607028667\n",
      "Variation coef: 0.1210988108067025\n"
     ]
    }
   ],
   "source": [
    "poission_param = 9\n",
    "poisson = generate_poission(n, poission_param, a, b)[:n]\n",
    "plt.hist(poisson)\n",
    "plt.title(f'Poisson $n = {n}$, $\\lambda = {poission_param}$')\n",
    "plt.show()\n",
    "print_statistics(poisson)"
   ]
  },
  {
   "cell_type": "code",
   "execution_count": 7,
   "id": "70a5f476",
   "metadata": {},
   "outputs": [
    {
     "data": {
      "image/png": "[encoded data removed]",
      "text/plain": [
       "<Figure size 432x288 with 1 Axes>"
      ]
     },
     "metadata": {
      "needs_background": "light"
     },
     "output_type": "display_data"
    },
    {
     "name": "stdout",
     "output_type": "stream",
     "text": [
      "Expectation: 5.861906825174112\n",
      "Variance: 0.3128645207079851\n",
      "Median: 5.544298186791797\n",
      "1/4 and 1/3 quantil: 5.39598473677925, 5.501814650873592\n",
      "Corrected variance: 0.3144367042291308\n",
      "Skewness: 0.20560480745852475\n",
      "Excess: 1.852875278861601\n",
      "Variation coef: 0.09541996371953451\n"
     ]
    }
   ],
   "source": [
    "exp_param = 3\n",
    "exp = generate_exponential(n, 3, a, b)[:n]\n",
    "plt.hist(exp)\n",
    "plt.title(f'Exponential distr $n = {n}$, $\\lambda = {exp_param}$')\n",
    "plt.show()\n",
    "print_statistics(exp)"
   ]
  },
  {
   "cell_type": "code",
   "execution_count": 8,
   "id": "7d8fc298",
   "metadata": {},
   "outputs": [
    {
     "data": {
      "image/png": "[encoded data removed]",
      "text/plain": [
       "<Figure size 432x288 with 1 Axes>"
      ]
     },
     "metadata": {
      "needs_background": "light"
     },
     "output_type": "display_data"
    },
    {
     "name": "stdout",
     "output_type": "stream",
     "text": [
      "Expectation: 5.9240786791697\n",
      "Variance: 0.33189222759076187\n",
      "Median: 5.508811052231172\n",
      "1/4 and 1/3 quantil: 5.427938525181324, 5.608133257944116\n",
      "Corrected variance: 0.3335600277294089\n",
      "Skewness: 0.17486925910604986\n",
      "Excess: 1.882573223191203\n",
      "Variation coef: 0.09724733825649547\n"
     ]
    }
   ],
   "source": [
    "cauchy_shift = 0\n",
    "cauchy_scale = 2\n",
    "cauchy = generate_cauchy(n, cauchy_shift, cauchy_scale, a, b)[:n]\n",
    "plt.hist(cauchy)\n",
    "plt.title(f'Cauchy distr $n = {n}$, $x_0 = {cauchy_shift}$, $\\gamma = {cauchy_scale}$')\n",
    "plt.show()\n",
    "print_statistics(cauchy)"
   ]
  },
  {
   "cell_type": "markdown",
   "id": "5412d9e1",
   "metadata": {},
   "source": [
    "# Interval estimation for gauss expectation and variance"
   ]
  },
  {
   "cell_type": "code",
   "execution_count": 123,
   "id": "f84d7065",
   "metadata": {},
   "outputs": [
    {
     "name": "stdout",
     "output_type": "stream",
     "text": [
      "error: 0.05\n",
      "point estimation: 5.9725095005888855\n",
      "confidence interval for expectation w/ actual sigma\n",
      "lower bound for expectation: 5.556738353283982\n",
      "higher bound for expectation: 6.388280647893789\n"
     ]
    }
   ],
   "source": [
    "gauss_exp = 4\n",
    "gauss_var = 9\n",
    "\n",
    "# 2nd param is standard deviation, not variance\n",
    "gauss_sample = get_truncated_normal(gauss_exp, gauss_var**0.5, a, b).rvs(size=n) \n",
    "\n",
    "mu_lower, mu_higher = conf_interval_exp(gauss_sample, alpha, gauss_var)\n",
    "print(f\"error: {alpha}\")\n",
    "print(f\"point estimation: {np.mean(gauss_sample)}\")\n",
    "print(\"confidence interval for expectation w/ actual sigma\")\n",
    "print(f'lower bound for expectation: {mu_lower}')\n",
    "print(f'higher bound for expectation: {mu_higher}')"
   ]
  },
  {
   "cell_type": "code",
   "execution_count": 124,
   "id": "5d61c8ad",
   "metadata": {},
   "outputs": [
    {
     "name": "stdout",
     "output_type": "stream",
     "text": [
      "point estimation: 0.33919157408141004\n",
      "lower bound for variance: 0.28270713771411077\n",
      "higher bound for variance: 0.4192048147762848\n"
     ]
    }
   ],
   "source": [
    "sigma2_lower, sigma2_higher = conf_interval_var(gauss_sample, n, alpha) \n",
    "\n",
    "print(f\"point estimation: {np.var(gauss_sample)}\")\n",
    "print(f'lower bound for variance: {sigma2_lower}')\n",
    "print(f'higher bound for variance: {sigma2_higher}')"
   ]
  },
  {
   "cell_type": "code",
   "execution_count": 119,
   "id": "b009b288",
   "metadata": {},
   "outputs": [
    {
     "data": {
      "image/png": "[encoded data removed]",
      "text/plain": [
       "<Figure size 432x288 with 1 Axes>"
      ]
     },
     "metadata": {
      "needs_background": "light"
     },
     "output_type": "display_data"
    }
   ],
   "source": [
    "plt.hist(gauss_sample, edgecolor = 'red')\n",
    "plt.title(\"ungrouped gauss sample\")\n",
    "plt.show()"
   ]
  },
  {
   "cell_type": "markdown",
   "id": "280627bf",
   "metadata": {},
   "source": [
    "# Grouped gauss confidence intervals"
   ]
  },
  {
   "cell_type": "code",
   "execution_count": 159,
   "id": "4c8d37bd",
   "metadata": {},
   "outputs": [
    {
     "name": "stdout",
     "output_type": "stream",
     "text": [
      "grouped gauss sample, k = 8\n"
     ]
    },
    {
     "data": {
      "image/png": "[encoded data removed]",
      "text/plain": [
       "<Figure size 432x288 with 1 Axes>"
      ]
     },
     "metadata": {
      "needs_background": "light"
     },
     "output_type": "display_data"
    },
    {
     "name": "stdout",
     "output_type": "stream",
     "text": [
      "point estimation: 5.9775\n",
      "lower bound for expectation: 5.561728852695096\n",
      "higher bound for expectation: 6.393271147304904\n",
      "\n",
      "point estimation: 0.33449375000000003\n",
      "lower bound for variance: 0.2787916265368753\n",
      "higher bound for variance: 0.4133988024092842\n"
     ]
    }
   ],
   "source": [
    "k = 8\n",
    "print(f'grouped gauss sample, k = {k}')\n",
    "grouped = group_data(gauss_sample, k)\n",
    "# plt.bar(interval_mids, [x for x in grouped], width = interval_mids[1] - interval_mids[0], edgecolor = 'red')\n",
    "\n",
    "\n",
    "mu_lower, mu_higher = conf_interval_exp(grouped, alpha, gauss_var)\n",
    "print(f\"point estimation: {np.mean(grouped)}\")\n",
    "print(f'lower bound for expectation: {mu_lower}')\n",
    "print(f'higher bound for expectation: {mu_higher}\\n')\n",
    "\n",
    "sigma2_lower, sigma2_higher = conf_interval_var(grouped, n, alpha) \n",
    "print(f\"point estimation: {np.var(grouped)}\")\n",
    "print(f'lower bound for variance: {sigma2_lower}')\n",
    "print(f'higher bound for variance: {sigma2_higher}')"
   ]
  },
  {
   "cell_type": "markdown",
   "id": "6177ae24",
   "metadata": {},
   "source": [
    "#  Expectation confidence interval w/ student's quantiles"
   ]
  },
  {
   "cell_type": "code",
   "execution_count": 125,
   "id": "93f65659",
   "metadata": {},
   "outputs": [
    {
     "name": "stdout",
     "output_type": "stream",
     "text": [
      "confidence interval for normal's expectation with no known variance\n",
      "lower bound for expectation: 5.865829731777495\n",
      "higher bound for variance: 6.079189269400276\n"
     ]
    }
   ],
   "source": [
    "mu_lower_student, mu_higher_student = conf_interval_exp_student(gauss_sample, n, alpha)\n",
    "print(\"confidence interval for normal's expectation with no known variance\")\n",
    "print(f'lower bound for expectation: {mu_lower_student}')\n",
    "print(f'higher bound for variance: {mu_higher_student}')"
   ]
  }
 ],
 "metadata": {
  "kernelspec": {
   "display_name": "Python 3 (ipykernel)",
   "language": "python",
   "name": "python3"
  },
  "language_info": {
   "codemirror_mode": {
    "name": "ipython",
    "version": 3
   },
   "file_extension": ".py",
   "mimetype": "text/x-python",
   "name": "python",
   "nbconvert_exporter": "python",
   "pygments_lexer": "ipython3",
   "version": "3.10.2"
  }
 },
 "nbformat": 4,
 "nbformat_minor": 5
}
