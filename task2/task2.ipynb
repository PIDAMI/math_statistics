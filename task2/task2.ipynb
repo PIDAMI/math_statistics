{
 "cells": [
  {
   "cell_type": "code",
   "execution_count": 1,
   "id": "0598a98f",
   "metadata": {},
   "outputs": [],
   "source": [
    "import scipy.stats as stat\n",
    "import matplotlib.pyplot as plt\n",
    "import numpy as np\n",
    "import math\n",
    "import itertools"
   ]
  },
  {
   "cell_type": "code",
   "execution_count": 2,
   "id": "e159e4d3",
   "metadata": {},
   "outputs": [],
   "source": [
    "np.set_printoptions(precision=4)"
   ]
  },
  {
   "cell_type": "code",
   "execution_count": 3,
   "id": "5c2a43ad",
   "metadata": {},
   "outputs": [],
   "source": [
    "def print_statistics(data):\n",
    "    size = np.size(data)\n",
    "    print(f'Expectation: {np.mean(data)}')\n",
    "    print(f'Variance: {np.var(data)}')\n",
    "    print(f'Median: {(data[size // 2 - 1] + data[size // 2]) / 2}')\n",
    "    print(f'1/4 and 1/3 quantile: {np.quantile(data, 1/4)}, {np.quantile(data, 1/3)}')\n",
    "    print(f'Corrected variance: {np.var(data) * n / (n - 1)}')\n",
    "    print(f'Skewness: {stat.kstat(data, 3) / stat.kstat(data, 2) ** 1.5}')\n",
    "    print(f'Excess: {stat.moment(data, 4) / stat.moment(data, 2) ** 2}')\n",
    "    print(f'Variation coef: { np.var(data)**0.5 / np.mean(data)}')    "
   ]
  },
  {
   "cell_type": "code",
   "execution_count": 4,
   "id": "2b2a938c",
   "metadata": {},
   "outputs": [],
   "source": [
    "def get_truncated_normal(mean=0, sd=1, low=0, upp=10):\n",
    "    return stat.truncnorm( (low - mean) / sd, (upp - mean) / sd, loc=mean, scale=sd)"
   ]
  },
  {
   "cell_type": "code",
   "execution_count": 5,
   "id": "b3977f9f",
   "metadata": {},
   "outputs": [],
   "source": [
    "def generate_poission(n, lambd, a, b):\n",
    "    poisson = np.random.default_rng().poisson(lambd, n * 5)\n",
    "    return np.extract(np.logical_and(a <= poisson, poisson <= b), poisson)\n",
    "def generate_exponential(n, lambd, a, b):\n",
    "    exp = np.random.default_rng().exponential(lambd, n * 13)\n",
    "    return np.extract(np.logical_and(a <= exp, exp <= b), exp)\n",
    "def generate_cauchy(n, shift, sscale, a, b):\n",
    "    cauchy = stat.cauchy.rvs(loc=shift, scale=sscale, size=n * 50)\n",
    "    return np.extract(np.logical_and(a <= cauchy, cauchy <= b), cauchy)"
   ]
  },
  {
   "cell_type": "code",
   "execution_count": 6,
   "id": "7dbe69da",
   "metadata": {},
   "outputs": [],
   "source": [
    "def conf_interval_exp(data, alpha, var):\n",
    "    point_expectation = np.mean(data)\n",
    "    u_half_alpha = -stat.norm.ppf(alpha / 2)\n",
    "    \n",
    "    mu_lower = point_expectation - u_half_alpha * (var / n)**0.5\n",
    "    mu_higher = point_expectation + u_half_alpha * (var / n)**0.5\n",
    "    return mu_lower, mu_higher\n",
    "\n",
    "def conf_interval_var(data, n, alpha):\n",
    "    s2 = np.var(data) * n / (n - 1)\n",
    "    df = n - 1\n",
    "    chi2_half_alpha = stat.chi2.ppf(alpha / 2, df)\n",
    "    chi2_one_minus_half_alpha = stat.chi2.ppf(1 - alpha / 2, df)\n",
    "\n",
    "    sigma2_lower = (n - 1) * s2 / chi2_one_minus_half_alpha\n",
    "    sigma2_higher = (n - 1) * s2 / chi2_half_alpha\n",
    "    return sigma2_lower, sigma2_higher\n",
    "\n",
    "def conf_interval_exp_student(data, n, alpha):\n",
    "    point_expectation = np.mean(data)\n",
    "    s2 = np.std(data) * n / (n - 1)\n",
    "    t_half_alpha = -stat.t.ppf(q=alpha / 2, df=n-1)\n",
    "    \n",
    "    mu_lower = point_expectation - t_half_alpha * (s2 / n)**0.5\n",
    "    mu_higher = point_expectation + t_half_alpha * (s2 / n)**0.5\n",
    "    return mu_lower, mu_higher\n"
   ]
  },
  {
   "cell_type": "code",
   "execution_count": 7,
   "id": "0400d9dc",
   "metadata": {},
   "outputs": [],
   "source": [
    "def in_range(x, interval):\n",
    "    a, b = interval\n",
    "    if a <= x <= b:\n",
    "        return True\n",
    "    return False\n",
    "def pairwise(iterable):\n",
    "    \"s -> (s0, s1), (s1, s2), (s2, s3), ...\"\n",
    "    a, b = itertools.tee(iterable)\n",
    "    next(b, None)\n",
    "    return zip(a, b)\n",
    "\n",
    "def group_data(data, k):\n",
    "    x0 = math.floor(min(data))\n",
    "    xn = math.ceil(max(data))\n",
    "    bounds = [x0 + i * (xn - x0) / k for i in range(k + 1)]\n",
    "    intervals = list(pairwise(bounds))\n",
    "    invervals_mids = [(a + b) / 2 for (a, b) in intervals]\n",
    "    grouped = np.zeros(np.size(data))\n",
    "    for i in range(np.size(data)):\n",
    "        entry_group = [j for j in range(k) if in_range(data[i], intervals[j])][0]\n",
    "        grouped[i] = invervals_mids[entry_group]\n",
    "    \n",
    "    _, counts = np.unique(grouped, return_counts=True)\n",
    "    scaled_counts = [x  for x in counts]\n",
    "    plt.bar(invervals_mids, [x for x in scaled_counts], \n",
    "            width = bounds[1] - bounds[0],\n",
    "            edgecolor='red')\n",
    "    plt.show()\n",
    "    return grouped"
   ]
  },
  {
   "cell_type": "code",
   "execution_count": 8,
   "id": "abbb987c",
   "metadata": {},
   "outputs": [
    {
     "data": {
      "image/png": "[encoded data removed]",
      "text/plain": [
       "<Figure size 432x288 with 1 Axes>"
      ]
     },
     "metadata": {
      "needs_background": "light"
     },
     "output_type": "display_data"
    },
    {
     "name": "stdout",
     "output_type": "stream",
     "text": [
      "Expectation: 17.40551060169761\n",
      "Variance: 21.849614763152264\n",
      "Median: 21.745031523079792\n",
      "1/4 and 1/3 quantile: 14.378719834854465, 15.48488702897162\n",
      "Corrected variance: 21.95941182226358\n",
      "Skewness: -0.06688845613501593\n",
      "Excess: 2.643579495992597\n",
      "Variation coef: 0.2685561634293894\n"
     ]
    }
   ],
   "source": [
    "n = 200\n",
    "a = 5\n",
    "b = 7\n",
    "gauss_exp = 17\n",
    "gauss_var = 22\n",
    "# gauss = get_truncated_normal(gauss_exp, gauss_var**0.5, a, b) # 2nd param is standard deviation, not variance\n",
    "gauss_sample = stat.norm.rvs(loc=gauss_exp, scale=gauss_var**0.5,size=n)\n",
    "plt.hist(gauss_sample)\n",
    "plt.title(f'Gauss $n = {n}$, $\\mu = {gauss_exp}$, $\\sigma^2 = {gauss_var}$')\n",
    "plt.show()\n",
    "print_statistics(gauss_sample)"
   ]
  },
  {
   "cell_type": "code",
   "execution_count": 9,
   "id": "de8b85d1",
   "metadata": {},
   "outputs": [
    {
     "data": {
      "image/png": "[encoded data removed]",
      "text/plain": [
       "<Figure size 432x288 with 1 Axes>"
      ]
     },
     "metadata": {
      "needs_background": "light"
     },
     "output_type": "display_data"
    },
    {
     "name": "stdout",
     "output_type": "stream",
     "text": [
      "Expectation: 8.88\n",
      "Variance: 9.9156\n",
      "Median: 6.0\n",
      "1/4 and 1/3 quantile: 6.75, 7.0\n",
      "Corrected variance: 9.965427135678391\n",
      "Skewness: 0.17623711726102465\n",
      "Excess: 2.7229141266826686\n",
      "Variation coef: 0.3546063706570187\n"
     ]
    }
   ],
   "source": [
    "poission_param = 9\n",
    "# poisson = generate_poission(n, poission_param, a, b)[:n]\n",
    "poisson = np.random.default_rng().poisson(poission_param, n)\n",
    "plt.hist(poisson)\n",
    "plt.title(f'Poisson $n = {n}$, $\\lambda = {poission_param}$')\n",
    "plt.show()\n",
    "print_statistics(poisson)"
   ]
  },
  {
   "cell_type": "code",
   "execution_count": 10,
   "id": "70a5f476",
   "metadata": {},
   "outputs": [
    {
     "data": {
      "image/png": "[encoded data removed]",
      "text/plain": [
       "<Figure size 432x288 with 1 Axes>"
      ]
     },
     "metadata": {
      "needs_background": "light"
     },
     "output_type": "display_data"
    },
    {
     "name": "stdout",
     "output_type": "stream",
     "text": [
      "Expectation: 0.33307423093486266\n",
      "Variance: 0.11571057152193617\n",
      "Median: 0.07835594345325136\n",
      "1/4 and 1/3 quantile: 0.08782447173424861, 0.12731690067716428\n",
      "Corrected variance: 0.11629203168033786\n",
      "Skewness: 1.875793255215516\n",
      "Excess: 6.966534637298142\n",
      "Variation coef: 1.0212815484408333\n"
     ]
    }
   ],
   "source": [
    "exp_param = 3\n",
    "# exp = generate_exponential(n, 3, a, b)[:n]\n",
    "exp = np.random.default_rng().exponential(1 / exp_param, n)\n",
    "plt.hist(exp)\n",
    "plt.title(f'Exponential distr $n = {n}$, $\\lambda = {exp_param}$')\n",
    "plt.show()\n",
    "print_statistics(exp)"
   ]
  },
  {
   "cell_type": "code",
   "execution_count": 11,
   "id": "7d8fc298",
   "metadata": {},
   "outputs": [
    {
     "data": {
      "image/png": "[encoded data removed]",
      "text/plain": [
       "<Figure size 432x288 with 1 Axes>"
      ]
     },
     "metadata": {
      "needs_background": "light"
     },
     "output_type": "display_data"
    },
    {
     "name": "stdout",
     "output_type": "stream",
     "text": [
      "Expectation: -12.995156206008021\n",
      "Variance: 35305.64616869979\n",
      "Median: 6.570895241974872\n",
      "1/4 and 1/3 quantile: -1.8623873170109164, -0.8694000500288362\n",
      "Corrected variance: 35483.0614760802\n",
      "Skewness: -13.540195388474116\n",
      "Excess: 186.9893733496602\n",
      "Variation coef: -14.459077248703641\n"
     ]
    }
   ],
   "source": [
    "cauchy_shift = 0\n",
    "cauchy_scale = 2\n",
    "# cauchy = generate_cauchy(n, cauchy_shift, cauchy_scale, a, b)[:n]\n",
    "cauchy = stat.cauchy.rvs(loc=cauchy_shift, scale = cauchy_scale, size=n)\n",
    "plt.hist(cauchy)\n",
    "plt.title(f'Cauchy distr $n = {n}$, $x_0 = {cauchy_shift}$, $\\gamma = {cauchy_scale}$')\n",
    "plt.show()\n",
    "print_statistics(cauchy)"
   ]
  },
  {
   "cell_type": "code",
   "execution_count": 12,
   "id": "6ba85422",
   "metadata": {},
   "outputs": [
    {
     "data": {
      "image/png": "[encoded data removed]",
      "text/plain": [
       "<Figure size 432x288 with 1 Axes>"
      ]
     },
     "metadata": {
      "needs_background": "light"
     },
     "output_type": "display_data"
    },
    {
     "name": "stdout",
     "output_type": "stream",
     "text": [
      "Expectation: 5.988707583453897\n",
      "Variance: 0.34188927874155767\n",
      "Median: 5.376858086143265\n",
      "1/4 and 1/3 quantile: 5.48878449210495, 5.606073316320278\n",
      "Corrected variance: 0.3436073153181484\n",
      "Skewness: 0.12781430166171107\n",
      "Excess: 1.8578060928672615\n",
      "Variation coef: 0.09763592230857795\n"
     ]
    }
   ],
   "source": [
    "uniform = np.random.default_rng().uniform(low=a, high=b, size=n)\n",
    "plt.hist(uniform)\n",
    "plt.title(f'Uniform distr $n = {n}$, $a = {a}$, $b = {b}$')\n",
    "plt.show()\n",
    "print_statistics(uniform)\n"
   ]
  },
  {
   "cell_type": "markdown",
   "id": "5412d9e1",
   "metadata": {},
   "source": [
    "# Interval estimation for gauss expectation and variance"
   ]
  },
  {
   "cell_type": "code",
   "execution_count": 13,
   "id": "9f1ed91c",
   "metadata": {},
   "outputs": [],
   "source": [
    "alpha = 0.05"
   ]
  },
  {
   "cell_type": "code",
   "execution_count": 14,
   "id": "f84d7065",
   "metadata": {},
   "outputs": [
    {
     "name": "stdout",
     "output_type": "stream",
     "text": [
      "error: 0.05\n",
      "point estimation: 3.9873102372982805\n",
      "confidence interval for expectation w/ actual sigma\n",
      "lower bound for expectation: 3.571539089993377\n",
      "higher bound for expectation: 4.403081384603184\n"
     ]
    }
   ],
   "source": [
    "gauss_exp = 4\n",
    "gauss_var = 9\n",
    "\n",
    "# 2nd param is standard deviation, not variance\n",
    "# gauss_sample = get_truncated_normal(gauss_exp, gauss_var**0.5, a, b).rvs(size=n) \n",
    "gauss_sample = stat.norm.rvs(loc=gauss_exp, scale=gauss_var**0.5,size=n)\n",
    "\n",
    "\n",
    "mu_lower, mu_higher = conf_interval_exp(gauss_sample, alpha, gauss_var)\n",
    "print(f\"error: {alpha}\")\n",
    "print(f\"point estimation: {np.mean(gauss_sample)}\")\n",
    "print(\"confidence interval for expectation w/ actual sigma\")\n",
    "print(f'lower bound for expectation: {mu_lower}')\n",
    "print(f'higher bound for expectation: {mu_higher}')"
   ]
  },
  {
   "cell_type": "code",
   "execution_count": 15,
   "id": "5d61c8ad",
   "metadata": {},
   "outputs": [
    {
     "name": "stdout",
     "output_type": "stream",
     "text": [
      "point estimation: 8.616632971189093\n",
      "lower bound for variance: 7.181733952604722\n",
      "higher bound for variance: 10.649244570608339\n"
     ]
    }
   ],
   "source": [
    "sigma2_lower, sigma2_higher = conf_interval_var(gauss_sample, n, alpha) \n",
    "\n",
    "print(f\"point estimation: {np.var(gauss_sample)}\")\n",
    "print(f'lower bound for variance: {sigma2_lower}')\n",
    "print(f'higher bound for variance: {sigma2_higher}')"
   ]
  },
  {
   "cell_type": "code",
   "execution_count": 16,
   "id": "b009b288",
   "metadata": {},
   "outputs": [
    {
     "data": {
      "image/png": "[encoded data removed]",
      "text/plain": [
       "<Figure size 432x288 with 1 Axes>"
      ]
     },
     "metadata": {
      "needs_background": "light"
     },
     "output_type": "display_data"
    }
   ],
   "source": [
    "plt.hist(gauss_sample, edgecolor = 'red')\n",
    "plt.title(\"ungrouped gauss sample\")\n",
    "plt.show()"
   ]
  },
  {
   "cell_type": "markdown",
   "id": "280627bf",
   "metadata": {},
   "source": [
    "# Grouped gauss confidence intervals"
   ]
  },
  {
   "cell_type": "code",
   "execution_count": 17,
   "id": "4c8d37bd",
   "metadata": {},
   "outputs": [
    {
     "name": "stdout",
     "output_type": "stream",
     "text": [
      "grouped gauss sample, k = 8\n"
     ]
    },
    {
     "data": {
      "image/png": "[encoded data removed]",
      "text/plain": [
       "<Figure size 432x288 with 1 Axes>"
      ]
     },
     "metadata": {
      "needs_background": "light"
     },
     "output_type": "display_data"
    },
    {
     "name": "stdout",
     "output_type": "stream",
     "text": [
      "point estimation: 3.95625\n",
      "lower bound for expectation: 3.5404788526950965\n",
      "higher bound for expectation: 4.3720211473049035\n",
      "\n",
      "point estimation: 9.5649609375\n",
      "lower bound for variance: 7.972140040067416\n",
      "higher bound for variance: 11.821277368124468\n"
     ]
    }
   ],
   "source": [
    "k = 8\n",
    "print(f'grouped gauss sample, k = {k}')\n",
    "grouped = group_data(gauss_sample, k)\n",
    "\n",
    "mu_lower_group, mu_higher_group = conf_interval_exp(grouped, alpha, gauss_var)\n",
    "print(f\"point estimation: {np.mean(grouped)}\")\n",
    "print(f'lower bound for expectation: {mu_lower_group}')\n",
    "print(f'higher bound for expectation: {mu_higher_group}\\n')\n",
    "\n",
    "sigma2_lower_group, sigma2_higher_group = conf_interval_var(grouped, n, alpha) \n",
    "print(f\"point estimation: {np.var(grouped)}\")\n",
    "print(f'lower bound for variance: {sigma2_lower_group}')\n",
    "print(f'higher bound for variance: {sigma2_higher_group}')"
   ]
  },
  {
   "cell_type": "markdown",
   "id": "6177ae24",
   "metadata": {},
   "source": [
    "#  Expectation confidence interval w/ student's quantiles"
   ]
  },
  {
   "cell_type": "code",
   "execution_count": 18,
   "id": "93f65659",
   "metadata": {},
   "outputs": [
    {
     "name": "stdout",
     "output_type": "stream",
     "text": [
      "gauss expectation with no known variance\n",
      "lower bound for expectation: 3.7478104121891476\n",
      "higher bound for variance: 4.226810062407413\n",
      "\n",
      "grouped gauss expectation w/ actual variance\n",
      "point estimation: 3.95625\n",
      "lower bound for expectation: 3.5404788526950965\n",
      "higher bound for expectation: 4.3720211473049035\n",
      "\n",
      "\n",
      "ungrouped gauss expectation w/ actual variance\n",
      "point estimation: 3.9873102372982805\n",
      "lower bound for expectation: 3.571539089993377\n",
      "higher bound for expectation: 4.403081384603184\n",
      "\n"
     ]
    }
   ],
   "source": [
    "mu_lower_student, mu_higher_student = conf_interval_exp_student(gauss_sample, n, alpha)\n",
    "print(\"gauss expectation with no known variance\")\n",
    "print(f'lower bound for expectation: {mu_lower_student}')\n",
    "print(f'higher bound for variance: {mu_higher_student}')\n",
    "\n",
    "print(\"\\ngrouped gauss expectation w/ actual variance\")\n",
    "print(f\"point estimation: {np.mean(grouped)}\")\n",
    "print(f'lower bound for expectation: {mu_lower_group}')\n",
    "print(f'higher bound for expectation: {mu_higher_group}\\n')\n",
    "\n",
    "print(\"\\nungrouped gauss expectation w/ actual variance\")\n",
    "print(f\"point estimation: {np.mean(gauss_sample)}\")\n",
    "print(f'lower bound for expectation: {mu_lower}')\n",
    "print(f'higher bound for expectation: {mu_higher}\\n')\n"
   ]
  },
  {
   "cell_type": "code",
   "execution_count": null,
   "id": "31d77874",
   "metadata": {},
   "outputs": [],
   "source": []
  },
  {
   "cell_type": "code",
   "execution_count": null,
   "id": "1f415284",
   "metadata": {},
   "outputs": [],
   "source": []
  }
 ],
 "metadata": {
  "kernelspec": {
   "display_name": "Python 3 (ipykernel)",
   "language": "python",
   "name": "python3"
  },
  "language_info": {
   "codemirror_mode": {
    "name": "ipython",
    "version": 3
   },
   "file_extension": ".py",
   "mimetype": "text/x-python",
   "name": "python",
   "nbconvert_exporter": "python",
   "pygments_lexer": "ipython3",
   "version": "3.10.2"
  }
 },
 "nbformat": 4,
 "nbformat_minor": 5
}
