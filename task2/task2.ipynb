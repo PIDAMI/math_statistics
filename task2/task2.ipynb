{
 "cells": [
  {
   "cell_type": "code",
   "execution_count": 25,
   "id": "0598a98f",
   "metadata": {},
   "outputs": [],
   "source": [
    "import scipy.stats as stat\n",
    "import matplotlib.pyplot as plt\n",
    "import numpy as np"
   ]
  },
  {
   "cell_type": "code",
   "execution_count": 85,
   "id": "5c2a43ad",
   "metadata": {},
   "outputs": [],
   "source": [
    "def print_statistics(data):\n",
    "    print(f'Expectation: {np.mean(data)}')\n",
    "    print(f'Variance: {np.var(data)}')\n",
    "    print(f'Median: {(data[99] + data[100]) / 2}')\n",
    "    print(f'1/4 and 1/3 quantil: {np.quantile(data, 1/4)}, {np.quantile(data, 1/3)}')\n",
    "    print(f'Corrected variance: {np.var(data) * n / (n - 1)}')\n",
    "    print(f'Skewness: {stat.kstat(data, 3) / stat.kstat(data, 2) ** 1.5}')\n",
    "    print(f'Excess: {stat.moment(data, 4) / stat.moment(data, 2) ** 2}')\n",
    "    print(f'Variation coef: { np.var(data)**0.5 / np.mean(data)}')"
   ]
  },
  {
   "cell_type": "code",
   "execution_count": 86,
   "id": "2b2a938c",
   "metadata": {},
   "outputs": [],
   "source": [
    "def get_truncated_normal(mean=0, sd=1, low=0, upp=10):\n",
    "    return stat.truncnorm( (low - mean) / sd, (upp - mean) / sd, loc=mean, scale=sd)"
   ]
  },
  {
   "cell_type": "code",
   "execution_count": 236,
   "id": "b3977f9f",
   "metadata": {},
   "outputs": [],
   "source": [
    "def generate_poission(n, lambd, a, b):\n",
    "    poisson = np.random.default_rng().poisson(lambd, n * 5)\n",
    "    return np.extract(np.logical_and(a <= poisson, poisson <= b), poisson)\n",
    "def generate_exponential(n, lambd, a, b):\n",
    "    exp = np.random.default_rng().exponential(lambd, n )\n",
    "    print(np.size(exp))\n",
    "    return np.extract(np.logical_and(a <= exp, exp <= b), exp)\n"
   ]
  },
  {
   "cell_type": "code",
   "execution_count": 90,
   "id": "abbb987c",
   "metadata": {},
   "outputs": [
    {
     "data": {
      "image/png": "[encoded data removed]",
      "text/plain": [
       "<Figure size 432x288 with 1 Axes>"
      ]
     },
     "metadata": {
      "needs_background": "light"
     },
     "output_type": "display_data"
    }
   ],
   "source": [
    "n = 200\n",
    "a = 5\n",
    "b = 7\n",
    "gauss = get_truncated_normal(17, 22**0.5, a, b)\n",
    "gauss_sample = np.sort(gauss.rvs(n))\n",
    "plt.hist(gauss_sample)\n",
    "plt.title('Gauss $n = 200$, $\\mu = 17$, $\\sigma^2 = 22$')\n",
    "plt.show()"
   ]
  },
  {
   "cell_type": "code",
   "execution_count": 87,
   "id": "ecf67c99",
   "metadata": {},
   "outputs": [
    {
     "name": "stdout",
     "output_type": "stream",
     "text": [
      "Expectation: 6.174351893561723\n",
      "Variance: 0.3106601577500448\n",
      "Median: 6.260236597295935\n",
      "1/4 and 1/3 quantil: 5.7086204587390545, 5.919127107109431\n",
      "Corrected variance: 0.3122212640703968\n",
      "Skewness: -0.3763908220566208\n",
      "Excess: 1.9680188645414172\n",
      "Variation coef: 0.09027165438066105\n"
     ]
    }
   ],
   "source": [
    "print_statistics(gauss_sample)"
   ]
  },
  {
   "cell_type": "code",
   "execution_count": 220,
   "id": "de8b85d1",
   "metadata": {},
   "outputs": [
    {
     "name": "stdout",
     "output_type": "stream",
     "text": [
      "Expectation: 6.21028\n",
      "Variance: 0.6170823216000001\n",
      "Median: 6.5\n",
      "1/4 and 1/3 quantil: 6.0, 6.0\n",
      "Corrected variance: 0.6170829386829388\n",
      "Skewness: -0.3884475667429227\n",
      "Excess: 1.7175071965527977\n",
      "Variation coef: 0.12649121696889082\n"
     ]
    }
   ],
   "source": [
    "poisson = generate_poission(n, 9, a, b)[:n]\n",
    "print_statistics(poisson)"
   ]
  },
  {
   "cell_type": "code",
   "execution_count": 237,
   "id": "70a5f476",
   "metadata": {},
   "outputs": [
    {
     "name": "stdout",
     "output_type": "stream",
     "text": [
      "1000000\n",
      "91756\n"
     ]
    }
   ],
   "source": [
    "exp = generate_exponential(n, 3, a, b)\n",
    "print(np.size(exp))"
   ]
  }
 ],
 "metadata": {
  "kernelspec": {
   "display_name": "Python 3 (ipykernel)",
   "language": "python",
   "name": "python3"
  },
  "language_info": {
   "codemirror_mode": {
    "name": "ipython",
    "version": 3
   },
   "file_extension": ".py",
   "mimetype": "text/x-python",
   "name": "python",
   "nbconvert_exporter": "python",
   "pygments_lexer": "ipython3",
   "version": "3.10.2"
  }
 },
 "nbformat": 4,
 "nbformat_minor": 5
}
