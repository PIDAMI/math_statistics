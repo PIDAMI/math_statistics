{
 "cells": [
  {
   "cell_type": "code",
   "execution_count": 1,
   "source": [
    "import scipy.stats as stat\n",
    "import matplotlib.pyplot as plt\n",
    "import numpy as np\n",
    "import math\n",
    "import itertools"
   ],
   "outputs": [],
   "metadata": {}
  },
  {
   "cell_type": "code",
   "execution_count": 2,
   "source": [
    "alpha = 0.05\n",
    "k = 8\n",
    "u_half_alpha = -stat.norm.ppf(alpha / 2)"
   ],
   "outputs": [],
   "metadata": {}
  },
  {
   "cell_type": "code",
   "execution_count": 112,
   "source": [
    "def in_range(x, interval):\n",
    "    a, b = interval\n",
    "    if a <= x <= b:\n",
    "        return True\n",
    "    return False\n",
    "\n",
    "\n",
    "def pairwise(iterable):\n",
    "    \"s -> (s0, s1), (s1, s2), (s2, s3), ...\"\n",
    "    a, b = itertools.tee(iterable)\n",
    "    next(b, None)\n",
    "    return zip(a, b)\n",
    "\n",
    "\n",
    "def group_data(data, k):\n",
    "    x0 = math.floor(min(data))\n",
    "    xn = math.ceil(max(data))\n",
    "    bounds = [x0 + i * (xn - x0) / k for i in range(k + 1)]\n",
    "    intervals = list(pairwise(bounds))\n",
    "    invervals_mids = [(a + b) / 2 for (a, b) in intervals]\n",
    "    grouped = np.zeros(np.size(data))\n",
    "    for i in range(np.size(data)):\n",
    "        entry_group = [j for j in range(k) if in_range(data[i], intervals[j])][0]\n",
    "        grouped[i] = invervals_mids[entry_group]\n",
    "    return grouped\n",
    "\n",
    "def group_data_bins(data, k):\n",
    "    x0 = math.floor(min(data))\n",
    "    xn = math.ceil(max(data))\n",
    "    bounds = [x0 + i * (xn - x0) / k for i in range(k + 1)]\n",
    "    intervals = list(pairwise(bounds))\n",
    "    invervals_mids = [(a + b) / 2 for (a, b) in intervals]\n",
    "    grouped = np.zeros(np.size(invervals_mids))\n",
    "    for i in range(np.size(data)):\n",
    "        entry_group = [j for j in range(k) if in_range(data[i], intervals[j])][0]\n",
    "        grouped[entry_group] += 1\n",
    "    return intervals, grouped\n"
   ],
   "outputs": [],
   "metadata": {}
  },
  {
   "cell_type": "markdown",
   "source": [
    "# Simple hypothesis"
   ],
   "metadata": {}
  },
  {
   "cell_type": "markdown",
   "source": [
    "## Homogeneity test for normal's expectation"
   ],
   "metadata": {}
  },
  {
   "cell_type": "markdown",
   "source": [
    "$t = \\frac{\\overline{x_{n1}} - \\overline{y_{n2}}}{s \\sqrt{1/n1 + 1/n2}} \\in t_{n1+n2-2}$\n",
    "\n",
    "$p-value = P(|T| > |t|) \\approx 2 F_{N(0,1)}(-|t|)$"
   ],
   "metadata": {}
  },
  {
   "cell_type": "code",
   "execution_count": 76,
   "source": [
    "n_x_gauss = 200\n",
    "n_y_gauss = 300\n",
    "\n",
    "x_gauss = stat.norm.rvs(loc=5, scale=7**0.5,size=n_x_gauss)\n",
    "y_gauss = stat.norm.rvs(loc=5, scale=9**0.5,size=n_y_gauss)\n",
    "\n",
    "s2 = ((n_x_gauss - 1) * np.var(x_gauss) + (n_y_gauss-2) * np.var(y_gauss)) / (n_x_gauss + n_y_gauss - 2)\n",
    "t = (np.mean(x_gauss) - np.mean(y_gauss)) / (s2**0.5 * (1/n_x_gauss + 1/n_y_gauss)**0.5)\n",
    "t_half_alpha = stat.t.ppf(1-alpha/2, df=n_x_gauss+n_y_gauss-2)\n",
    "p_value = 2 * stat.norm.cdf(-np.abs(t))\n",
    "\n",
    "print(f't statistic value: {t}')\n",
    "print(f'critical values: [ -{t_half_alpha},{t_half_alpha}]')\n",
    "print(f'p-value: {p_value}')"
   ],
   "outputs": [
    {
     "output_type": "stream",
     "name": "stdout",
     "text": [
      "t statistic value: -0.3373775897009669\n",
      "critical values: [ -1.9647389829672648,1.9647389829672648]\n",
      "p-value: 0.7358322762031757\n"
     ]
    }
   ],
   "metadata": {}
  },
  {
   "cell_type": "code",
   "execution_count": 6,
   "source": [
    "# # TODO: grouped\n",
    "# x_grouped = group_data(x,k)\n",
    "# x_uniq = np.unique(x_grouped)\n",
    "# x_freq = np.array([np.count_nonzero(x_grouped == val) for val in x_uniq])\n",
    "# print(*x_freq)"
   ],
   "outputs": [],
   "metadata": {}
  },
  {
   "cell_type": "markdown",
   "source": [
    "$x \\in N(3,12)$\n",
    "\n",
    "$y = 5x + U(-6,6)$"
   ],
   "metadata": {}
  },
  {
   "cell_type": "code",
   "execution_count": 7,
   "source": [
    "n_x_gauss = 200\n",
    "\n",
    "x_gauss = stat.norm.rvs(loc=3, scale=12**0.5,size=n_x_gauss)\n",
    "y = 5 * x_gauss + 10 * np.random.default_rng().uniform(low= -6, high=6, size=n_x_gauss)\n",
    "z = y - x_gauss\n",
    "\n",
    "t = np.mean(z) / (np.std(z) / n_x_gauss**0.5)\n",
    "t_half_alpha = stat.t.ppf(1-alpha/2, df=n_x_gauss)\n",
    "p_value = 2 * stat.norm.cdf(-np.abs(t))\n",
    "print(f't statistic value: {t}')\n",
    "print(f'critical values: [ -{t_half_alpha},{t_half_alpha}]')\n",
    "print(f'p-value: {p_value}')"
   ],
   "outputs": [
    {
     "output_type": "stream",
     "name": "stdout",
     "text": [
      "t statistic value: 4.036955303419692\n",
      "critical values: [ -1.9718962236316089,1.9718962236316089]\n",
      "p-value: 5.414938042576173e-05\n"
     ]
    }
   ],
   "metadata": {}
  },
  {
   "cell_type": "markdown",
   "source": [
    "## poission "
   ],
   "metadata": {}
  },
  {
   "cell_type": "code",
   "execution_count": 52,
   "source": [
    "lambda_x = 9\n",
    "n_x_poisson = 200\n",
    "\n",
    "x_poisson = stat.poisson.rvs(lambda_x, size=n_x_poisson)\n",
    "\n",
    "x1_poisson = x_poisson[:n_x_poisson//2]\n",
    "x2_poisson = x_poisson[n_x_poisson//2:]\n",
    "\n",
    "t = (np.mean(x1_poisson) - np.mean(x2_poisson)) / (np.mean(x1_poisson) + np.mean(x2_poisson))**0.5\n",
    "\n",
    "t_left_quant = stat.norm.ppf(alpha/2)\n",
    "t_right_quant = stat.norm.ppf(1 - alpha/2)\n",
    "p_value = 2 * stat.norm.cdf(-np.abs(t))\n",
    "\n",
    "print(f't statistic value: {t}')\n",
    "print(f'critical values: [ {t_left_quant},{t_right_quant}]')\n",
    "print(f'p-value: {p_value}')"
   ],
   "outputs": [
    {
     "output_type": "stream",
     "name": "stdout",
     "text": [
      "t statistic value: 0.06900655593423517\n",
      "critical values: [ -1.9599639845400545,1.959963984540054]\n",
      "p-value: 0.9449844010606656\n"
     ]
    }
   ],
   "metadata": {}
  },
  {
   "cell_type": "markdown",
   "source": [
    "# Homogenety tests for variance"
   ],
   "metadata": {}
  },
  {
   "cell_type": "markdown",
   "source": [
    "## independent gauss data"
   ],
   "metadata": {}
  },
  {
   "cell_type": "code",
   "execution_count": 41,
   "source": [
    "n_x_gauss = 200\n",
    "n_y_gauss = 300\n",
    "\n",
    "x_gauss = stat.norm.rvs(loc=5, scale=7**0.5,size=n_x_gauss)\n",
    "y_gauss = stat.norm.rvs(loc=5, scale=9**0.5,size=n_y_gauss)\n",
    "\n",
    "fisher_left_quan = stat.f.ppf(alpha / 2, dfn = n_x_gauss-1, dfd = n_y_gauss - 1)\n",
    "fisher_right_quan = stat.f.ppf(1 - alpha / 2, dfn = n_x_gauss-1, dfd = n_y_gauss - 1)\n",
    "\n",
    "F = np.var(x_gauss) / np.var(y_gauss)\n",
    "p_value = stat.f.cdf(F, dfn = n_x_gauss-1, dfd = n_y_gauss - 1)\n",
    "\n",
    "print(f'F statistic value: {F}')\n",
    "print(f'critical values: [ {fisher_left_quan},{fisher_right_quan}]')\n",
    "print(f'p-value: {p_value}')"
   ],
   "outputs": [
    {
     "output_type": "stream",
     "name": "stdout",
     "text": [
      "F statistic value: 0.8111737690046902\n",
      "critical values: [ 0.7729893672926245,1.285204934412516]\n",
      "p-value: 0.055403152794656116\n"
     ]
    }
   ],
   "metadata": {}
  },
  {
   "cell_type": "markdown",
   "source": [
    "## gauss data from one sample"
   ],
   "metadata": {}
  },
  {
   "cell_type": "code",
   "execution_count": 47,
   "source": [
    "n_y_gauss = 300\n",
    "y_gauss = stat.norm.rvs(loc=5, scale=9**0.5,size=n_y_gauss)\n",
    "y1_gauss = y_gauss[:n_y_gauss // 2]\n",
    "y2_gauss = y_gauss[n_y_gauss // 2:]\n",
    "\n",
    "fisher_left_quan = stat.f.ppf(alpha / 2, dfn = n_y_gauss / 2 - 1, dfd = n_y_gauss / 2 - 1)\n",
    "fisher_right_quan = stat.f.ppf(1 - alpha / 2, dfn = n_y_gauss / 2 - 1, dfd = n_y_gauss / 2 - 1)\n",
    "\n",
    "F = np.var(y1_gauss) / np.var(y2_gauss)\n",
    "p_value = stat.f.cdf(F, dfn = n_y_gauss / 2 - 1, dfd = n_y_gauss / 2 - 1)\n",
    "\n",
    "print(f'F statistic value: {F}')\n",
    "print(f'critical values: [ {fisher_left_quan},{fisher_right_quan}]')\n",
    "print(f'p-value: {p_value}')"
   ],
   "outputs": [
    {
     "output_type": "stream",
     "name": "stdout",
     "text": [
      "F statistic value: 0.8606411923551436\n",
      "critical values: [ 0.7244337450679404,1.3803884852247126]\n",
      "p-value: 0.18035792827984007\n"
     ]
    }
   ],
   "metadata": {}
  },
  {
   "cell_type": "markdown",
   "source": [
    "# Correlation test"
   ],
   "metadata": {}
  },
  {
   "cell_type": "markdown",
   "source": [
    "## correlated gauss data"
   ],
   "metadata": {}
  },
  {
   "cell_type": "code",
   "execution_count": 80,
   "source": [
    "n_x_gauss = 200\n",
    "\n",
    "x_gauss = stat.norm.rvs(loc=3, scale=12**0.5,size=n_x_gauss)\n",
    "y = 5 * x_gauss + np.random.default_rng().uniform(low= -6, high=6, size=n_x_gauss)\n",
    "ro, _ = stat.pearsonr(x_gauss, y)\n",
    "\n",
    "t = ro / (1 - ro**2)**0.5 * (n_x_gauss - 2)**0.5\n",
    "t_right_quant = stat.t.ppf(1-alpha/2, df=n_x_gauss)\n",
    "t_left_quant = stat.t.ppf(alpha/2, df=n_x_gauss)\n",
    "p_value = 2 * stat.norm.cdf(-np.abs(t))\n",
    "\n",
    "print(f't statistic value: {t}')\n",
    "print(f'critical values: [ {t_left_quant},{t_right_quant}]')\n",
    "print(f'p-value: {p_value}')"
   ],
   "outputs": [
    {
     "output_type": "stream",
     "name": "stdout",
     "text": [
      "t statistic value: 80.80230493951011\n",
      "critical values: [ -1.9718962236316093,1.9718962236316089]\n",
      "p-value: 0.0\n"
     ]
    }
   ],
   "metadata": {}
  },
  {
   "cell_type": "markdown",
   "source": [
    "## uncorrelated gauss data"
   ],
   "metadata": {}
  },
  {
   "cell_type": "code",
   "execution_count": 94,
   "source": [
    "n_x_gauss = 200\n",
    "\n",
    "x_gauss = stat.norm.rvs(loc=3, scale=12**0.5,size=n_x_gauss)\n",
    "x1_gauss = x_gauss[:n_x_gauss//2]\n",
    "x2_gauss = x_gauss[n_x_gauss//2:]\n",
    "\n",
    "ro, pp = stat.pearsonr(x1_gauss, x2_gauss)\n",
    "\n",
    "t = ro / (1 - ro**2)**0.5 * (n_x_gauss//2 - 2)**0.5\n",
    "t_right_quant = stat.t.ppf(1-alpha/2, df=n_x_gauss//2)\n",
    "t_left_quant = stat.t.ppf(alpha/2, df=n_x_gauss//2)\n",
    "p_value = 2 * stat.norm.cdf(-np.abs(t))\n",
    "\n",
    "print(f't statistic value: {t}')\n",
    "print(f'critical values: [ {t_left_quant},{t_right_quant}]')\n",
    "print(f'p-value: {p_value}')"
   ],
   "outputs": [
    {
     "output_type": "stream",
     "name": "stdout",
     "text": [
      "t statistic value: 0.8262677869675682\n",
      "critical values: [ -1.983971518449634,1.9839715184496334]\n",
      "p-value: 0.4086522025314345\n"
     ]
    }
   ],
   "metadata": {}
  },
  {
   "cell_type": "code",
   "execution_count": null,
   "source": [],
   "outputs": [],
   "metadata": {}
  },
  {
   "cell_type": "markdown",
   "source": [
    "# Goodness-of-fit tests"
   ],
   "metadata": {}
  },
  {
   "cell_type": "markdown",
   "source": [
    "## chi square test for gauss"
   ],
   "metadata": {}
  },
  {
   "cell_type": "code",
   "execution_count": 140,
   "source": [
    "n_x_gauss = 400\n",
    "k = 10\n",
    "\n",
    "x_gauss = stat.norm.rvs(loc=5, scale=7**0.5,size=n_x_gauss)\n",
    "\n",
    "def chi2_normality_test(data):\n",
    "    mean = np.mean(data)\n",
    "    std = np.std(data)\n",
    "    intervals, freq = group_data_bins(data, k)\n",
    "\n",
    "    exp = [np.size(data)*(stat.norm.cdf(b, loc=mean, scale=std)-stat.norm.cdf(a, loc=mean, scale=std)) for (a,b) in intervals]\n",
    "    chi2 = np.sum((freq - exp)**2 / exp)\n",
    "\n",
    "    chi2_quant = stat.chi2.ppf(1 - alpha, df=k-2) # -2 for 2 estimated parameters (location and scale)\n",
    "    p_value = 1 - stat.chi2.cdf(chi2, df=k-2)\n",
    "    print(f'chi2 statistic value: {chi2}')\n",
    "    print(f'critical value: {chi2_quant}')\n",
    "    print(f'p-value: {p_value}')\n",
    "\n",
    "chi2_normality_test(x_gauss)"
   ],
   "outputs": [
    {
     "output_type": "stream",
     "name": "stdout",
     "text": [
      "chi2 statistic value: 6.329483420171503\n",
      "critical value: 15.50731305586545\n",
      "p-value: 0.610376958052877\n"
     ]
    }
   ],
   "metadata": {}
  },
  {
   "cell_type": "code",
   "execution_count": 141,
   "source": [
    "x_gauss_uni_noise = x_gauss + np.random.default_rng().uniform(low= -6, high=6, size=n_x_gauss)\n",
    "chi2_normality_test(x_gauss_uni_noise)"
   ],
   "outputs": [
    {
     "output_type": "stream",
     "name": "stdout",
     "text": [
      "chi2 statistic value: 8.244349422970853\n",
      "critical value: 15.50731305586545\n",
      "p-value: 0.40997278929132086\n"
     ]
    }
   ],
   "metadata": {}
  },
  {
   "cell_type": "code",
   "execution_count": 142,
   "source": [
    "# noise must be small as otherwise plug-in estimations for variance will cause zero division\n",
    "x_gauss_cauchy_noise = x_gauss + 0.01 * stat.cauchy.rvs(loc=0, scale=1, size=n_x_gauss)\n",
    "chi2_normality_test(x_gauss_cauchy_noise)"
   ],
   "outputs": [
    {
     "output_type": "stream",
     "name": "stdout",
     "text": [
      "chi2 statistic value: 19276017656283.83\n",
      "critical value: 15.50731305586545\n",
      "p-value: 0.0\n"
     ]
    }
   ],
   "metadata": {}
  }
 ],
 "metadata": {
  "interpreter": {
   "hash": "0f67bec70529903dd5a0665b4076952d78956f8a31fa5f4061a06d0c3ccbb41e"
  },
  "kernelspec": {
   "name": "python3",
   "display_name": "Python 3.10.2 64-bit ('venv': venv)"
  },
  "language_info": {
   "codemirror_mode": {
    "name": "ipython",
    "version": 3
   },
   "file_extension": ".py",
   "mimetype": "text/x-python",
   "name": "python",
   "nbconvert_exporter": "python",
   "pygments_lexer": "ipython3",
   "version": "3.10.2"
  }
 },
 "nbformat": 4,
 "nbformat_minor": 5
}