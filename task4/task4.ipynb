{
 "cells": [
  {
   "cell_type": "code",
   "execution_count": 1,
   "id": "04ae1be4",
   "metadata": {},
   "outputs": [],
   "source": [
    "import scipy.stats as stat\n",
    "import matplotlib.pyplot as plt\n",
    "import numpy as np\n",
    "import math\n",
    "import itertools"
   ]
  },
  {
   "cell_type": "code",
   "execution_count": 2,
   "id": "6b2a98da",
   "metadata": {},
   "outputs": [],
   "source": [
    "alpha = 0.05\n",
    "k = 8\n",
    "u_half_alpha = -stat.norm.ppf(alpha / 2)"
   ]
  },
  {
   "cell_type": "code",
   "execution_count": 3,
   "id": "c40284c7",
   "metadata": {},
   "outputs": [],
   "source": [
    "def in_range(x, interval):\n",
    "    a, b = interval\n",
    "    if a <= x <= b:\n",
    "        return True\n",
    "    return False\n",
    "\n",
    "\n",
    "def pairwise(iterable):\n",
    "    \"s -> (s0, s1), (s1, s2), (s2, s3), ...\"\n",
    "    a, b = itertools.tee(iterable)\n",
    "    next(b, None)\n",
    "    return zip(a, b)\n",
    "\n",
    "\n",
    "def group_data(data, k):\n",
    "    x0 = math.floor(min(data))\n",
    "    xn = math.ceil(max(data))\n",
    "    bounds = [x0 + i * (xn - x0) / k for i in range(k + 1)]\n",
    "    intervals = list(pairwise(bounds))\n",
    "    invervals_mids = [(a + b) / 2 for (a, b) in intervals]\n",
    "    grouped = np.zeros(np.size(data))\n",
    "    for i in range(np.size(data)):\n",
    "        entry_group = [j for j in range(k) if in_range(data[i], intervals[j])][0]\n",
    "        grouped[i] = invervals_mids[entry_group]\n",
    "    return grouped\n",
    "\n",
    "def group_data_bins(data, k):\n",
    "    x0 = math.floor(min(data))\n",
    "    xn = math.ceil(max(data))\n",
    "    bounds = [x0 + i * (xn - x0) / k for i in range(k + 1)]\n",
    "    intervals = list(pairwise(bounds))\n",
    "    invervals_mids = [(a + b) / 2 for (a, b) in intervals]\n",
    "    grouped = np.zeros(np.size(invervals_mids))\n",
    "    for i in range(np.size(data)):\n",
    "        entry_group = [j for j in range(k) if in_range(data[i], intervals[j])][0]\n",
    "        grouped[entry_group] += 1\n",
    "    return intervals, grouped\n"
   ]
  },
  {
   "cell_type": "code",
   "execution_count": 48,
   "id": "39a93f38",
   "metadata": {},
   "outputs": [],
   "source": [
    "def t_test_homogeneous(x, y, n1, n2):\n",
    "    # n1 = np.size(x)\n",
    "    # n2 = np.size(y)\n",
    "    n_x = np.size(x)\n",
    "    n_y = np.size(y)\n",
    "    \n",
    "    s2 = ((n_x - 1) * np.var(x) + (n_y - 1) * np.var(y)) / (n_x + n_y - 2)\n",
    "    t = (np.mean(x) - np.mean(y)) / (s2**0.5 * (1/n_x + 1/n_y)**0.5)\n",
    "    t_half_alpha = stat.t.ppf(1-alpha/2, df=n1+n2-2)\n",
    "    p_value = 2 * stat.norm.cdf(-np.abs(t))\n",
    "\n",
    "    print(f't statistic value: {t}')\n",
    "    print(f'critical values: [ -{t_half_alpha},{t_half_alpha}]')\n",
    "    print(f'p-value: {p_value}')\n",
    "\n",
    "def t_test_dependent(x, y, n):\n",
    "    z = y - x\n",
    "    t = np.mean(z) / (np.std(z) / np.size(z)**0.5)\n",
    "    t_half_alpha = stat.t.ppf(1-alpha/2, df=n)\n",
    "    p_value = 2 * stat.norm.cdf(-np.abs(t))\n",
    "    print(f't statistic value: {t}')\n",
    "    print(f'critical values: [ -{t_half_alpha},{t_half_alpha}]')\n",
    "    print(f'p-value: {p_value}')"
   ]
  },
  {
   "cell_type": "code",
   "execution_count": 5,
   "id": "36cb97ba",
   "metadata": {},
   "outputs": [],
   "source": [
    "def empirical_cdf(t,data):\n",
    "    return sum([1 for x in data if x <= t]) / np.size(data)\n"
   ]
  },
  {
   "cell_type": "code",
   "execution_count": 6,
   "id": "47848842",
   "metadata": {},
   "outputs": [],
   "source": [
    "def kolmogorov_normality_test(data):\n",
    "    mean = np.mean(data)\n",
    "    std = np.std(data)\n",
    "    dif = [np.abs(empirical_cdf(t,data) - stat.norm.cdf(t,loc=mean,scale=std)) for t in data]\n",
    "    k_statistic = np.size(data)**0.5 * np.max(dif)\n",
    "    kolmogorov_quant = stat.kstwobign.ppf(1-alpha)\n",
    "    p_value = 1 - stat.kstwobign.cdf(k_statistic)\n",
    "    print(f'k statistic value: {k_statistic}')\n",
    "    print(f'critical value: {kolmogorov_quant}')\n",
    "    print(f'p-value: {p_value}')\n",
    "\n",
    "def chi2_normality_test(data):\n",
    "    mean = np.mean(data)\n",
    "    std = np.std(data)\n",
    "    intervals, freq = group_data_bins(data, k=10)\n",
    "\n",
    "    exp = [np.size(data)*(stat.norm.cdf(b, loc=mean, scale=std)-stat.norm.cdf(a, loc=mean, scale=std)) for (a,b) in intervals]\n",
    "    chi2 = np.sum((freq - exp)**2 / exp)\n",
    "\n",
    "    chi2_quant = stat.chi2.ppf(1 - alpha, df=k-2) # -2 for 2 estimated parameters (location and scale)\n",
    "    p_value = 1 - stat.chi2.cdf(chi2, df=k-2)\n",
    "    print(f'chi2 statistic value: {chi2}')\n",
    "    print(f'critical value: {chi2_quant}')\n",
    "    print(f'p-value: {p_value}')\n",
    "\n",
    "def KS_test(x, y):\n",
    "    cumulated = np.append(x,y)\n",
    "    n1 = np.size(x)\n",
    "    n2 = np.size(y)\n",
    "    dif = [np.abs(empirical_cdf(t,x) - empirical_cdf(t,y)) for t in cumulated]\n",
    "    k_statistic = np.max(dif)\n",
    "    crit_value = ((n1 + n2) / (n1 * n2))**0.5 * (-np.log(alpha/2) * 0.5)**0.5\n",
    "    p_value = 1 - stat.kstwobign.cdf(k_statistic * ((n1 * n2) / (n1 + n2))**0.5)\n",
    "\n",
    "    print(f'k statistic value: {k_statistic}')\n",
    "    print(f'critical value: {crit_value}')\n",
    "    print(f'p-value: {p_value}')    "
   ]
  },
  {
   "cell_type": "markdown",
   "id": "f3700c02",
   "metadata": {},
   "source": [
    "# Simple hypothesis"
   ]
  },
  {
   "cell_type": "markdown",
   "id": "46bf9243",
   "metadata": {},
   "source": [
    "## Homogeneity test for normal's expectation"
   ]
  },
  {
   "cell_type": "markdown",
   "id": "0e95f8f0",
   "metadata": {},
   "source": [
    "$t = \\frac{\\overline{x_{n1}} - \\overline{y_{n2}}}{s \\sqrt{1/n1 + 1/n2}} \\in t_{n1+n2-2}$\n",
    "\n",
    "$p-value = P(|T| > |t|) \\approx 2 F_{N(0,1)}(-|t|)$"
   ]
  },
  {
   "cell_type": "code",
   "execution_count": 49,
   "id": "e7a14644",
   "metadata": {},
   "outputs": [
    {
     "name": "stdout",
     "output_type": "stream",
     "text": [
      "t statistic value: 0.5799960927207347\n",
      "critical values: [ -1.9647389829672648,1.9647389829672648]\n",
      "p-value: 0.5619172527125207\n"
     ]
    }
   ],
   "source": [
    "n_x_gauss = 200\n",
    "n_y_gauss = 300\n",
    "\n",
    "x_gauss = stat.norm.rvs(loc=5, scale=7**0.5,size=n_x_gauss)\n",
    "y_gauss = stat.norm.rvs(loc=5, scale=9**0.5,size=n_y_gauss)\n",
    "\n",
    "t_test_homogeneous(x_gauss, y_gauss, n_x_gauss, n_y_gauss)"
   ]
  },
  {
   "cell_type": "code",
   "execution_count": 50,
   "id": "8eb02801",
   "metadata": {},
   "outputs": [
    {
     "name": "stdout",
     "output_type": "stream",
     "text": [
      "t statistic value: 0.6822022104409476\n",
      "critical values: [ -2.1447866879169273,2.1447866879169273]\n",
      "p-value: 0.49511109716366986\n"
     ]
    }
   ],
   "source": [
    "t_test_homogeneous(group_data(x_gauss,k), group_data(y_gauss,k), k, k)"
   ]
  },
  {
   "cell_type": "markdown",
   "id": "8b57e8aa",
   "metadata": {},
   "source": [
    "$x \\in N(3,12)$\n",
    "\n",
    "$y = 5x + U(-6,6)$"
   ]
  },
  {
   "cell_type": "code",
   "execution_count": 52,
   "id": "bbda9bc8",
   "metadata": {},
   "outputs": [
    {
     "name": "stdout",
     "output_type": "stream",
     "text": [
      "t statistic value: 13.65564703935712\n",
      "critical values: [ -1.9718962236316089,1.9718962236316089]\n",
      "p-value: 1.868225114786532e-42\n"
     ]
    }
   ],
   "source": [
    "n_x_gauss = 200\n",
    "\n",
    "x_gauss = stat.norm.rvs(loc=3, scale=12**0.5,size=n_x_gauss)\n",
    "y = 5 * x_gauss + 0.1 * np.random.default_rng().uniform(low= -6, high=6, size=n_x_gauss)\n",
    "\n",
    "t_test_dependent(x_gauss, y, n_x_gauss)"
   ]
  },
  {
   "cell_type": "code",
   "execution_count": 47,
   "id": "4080f366",
   "metadata": {},
   "outputs": [
    {
     "name": "stdout",
     "output_type": "stream",
     "text": [
      "t statistic value: 2.4212776102216034\n",
      "critical values: [ -2.3060041350333704,2.3060041350333704]\n",
      "p-value: 0.015466061096851589\n"
     ]
    }
   ],
   "source": [
    "t_test_dependent(group_data(x_gauss,k), group_data(y,k), k)"
   ]
  },
  {
   "cell_type": "markdown",
   "id": "b2e1bf34",
   "metadata": {},
   "source": [
    "## poission "
   ]
  },
  {
   "cell_type": "code",
   "execution_count": 68,
   "id": "25e54825",
   "metadata": {},
   "outputs": [
    {
     "name": "stdout",
     "output_type": "stream",
     "text": [
      "t statistic value: -0.16216534193645119\n",
      "critical values: [ -1.9599639845400545,1.959963984540054]\n",
      "p-value: 0.8711756516313647\n"
     ]
    }
   ],
   "source": [
    "lambda_x = 9\n",
    "n_x_poisson = 200\n",
    "\n",
    "x_poisson = stat.poisson.rvs(lambda_x, size=n_x_poisson)\n",
    "\n",
    "x1_poisson = x_poisson[:n_x_poisson//2]\n",
    "x2_poisson = x_poisson[n_x_poisson//2:]\n",
    "\n",
    "t = (np.mean(x1_poisson) - np.mean(x2_poisson)) / (np.mean(x1_poisson) + np.mean(x2_poisson))**0.5\n",
    "\n",
    "t_left_quant = stat.norm.ppf(alpha/2)\n",
    "t_right_quant = stat.norm.ppf(1 - alpha/2)\n",
    "p_value = 2 * stat.norm.cdf(-np.abs(t))\n",
    "\n",
    "print(f't statistic value: {t}')\n",
    "print(f'critical values: [ {t_left_quant},{t_right_quant}]')\n",
    "print(f'p-value: {p_value}')"
   ]
  },
  {
   "cell_type": "markdown",
   "id": "f52bda8f",
   "metadata": {},
   "source": [
    "# Homogenety tests for variance"
   ]
  },
  {
   "cell_type": "markdown",
   "id": "34f6205e",
   "metadata": {},
   "source": [
    "## independent gauss data"
   ]
  },
  {
   "cell_type": "code",
   "execution_count": 71,
   "id": "e5790f3b",
   "metadata": {},
   "outputs": [
    {
     "name": "stdout",
     "output_type": "stream",
     "text": [
      "F statistic value: 0.8018331314295745\n",
      "critical values: [ 0.7729893672926245,1.285204934412516]\n",
      "p-value: 0.046236507659654286\n"
     ]
    }
   ],
   "source": [
    "n_x_gauss = 200\n",
    "n_y_gauss = 300\n",
    "\n",
    "x_gauss = stat.norm.rvs(loc=5, scale=7**0.5,size=n_x_gauss)\n",
    "y_gauss = stat.norm.rvs(loc=5, scale=9**0.5,size=n_y_gauss)\n",
    "\n",
    "fisher_left_quan = stat.f.ppf(alpha / 2, dfn = n_x_gauss-1, dfd = n_y_gauss - 1)\n",
    "fisher_right_quan = stat.f.ppf(1 - alpha / 2, dfn = n_x_gauss-1, dfd = n_y_gauss - 1)\n",
    "\n",
    "F = min(np.var(x_gauss) / np.var(y_gauss), np.var(y_gauss) / np.var(x_gauss))\n",
    "p_value = stat.f.cdf(F, dfn = n_x_gauss-1, dfd = n_y_gauss - 1)\n",
    "\n",
    "print(f'F statistic value: {F}')\n",
    "print(f'critical values: [ {fisher_left_quan},{fisher_right_quan}]')\n",
    "print(f'p-value: {p_value}')"
   ]
  },
  {
   "cell_type": "markdown",
   "id": "17ebf222",
   "metadata": {},
   "source": [
    "## gauss data from one sample"
   ]
  },
  {
   "cell_type": "code",
   "execution_count": 73,
   "id": "91377c24",
   "metadata": {},
   "outputs": [
    {
     "name": "stdout",
     "output_type": "stream",
     "text": [
      "F statistic value: 0.9757789959868447\n",
      "critical values: [ 0.7244337450679404,1.3803884852247126]\n",
      "p-value: 0.44062118210245377\n"
     ]
    }
   ],
   "source": [
    "n_y_gauss = 300\n",
    "y_gauss = stat.norm.rvs(loc=5, scale=9**0.5,size=n_y_gauss)\n",
    "y1_gauss = y_gauss[:n_y_gauss // 2]\n",
    "y2_gauss = y_gauss[n_y_gauss // 2:]\n",
    "\n",
    "fisher_left_quan = stat.f.ppf(alpha / 2, dfn = n_y_gauss / 2 - 1, dfd = n_y_gauss / 2 - 1)\n",
    "fisher_right_quan = stat.f.ppf(1 - alpha / 2, dfn = n_y_gauss / 2 - 1, dfd = n_y_gauss / 2 - 1)\n",
    "\n",
    "F = np.var(y1_gauss) / np.var(y2_gauss)\n",
    "p_value = stat.f.cdf(F, dfn = n_y_gauss / 2 - 1, dfd = n_y_gauss / 2 - 1)\n",
    "\n",
    "print(f'F statistic value: {F}')\n",
    "print(f'critical values: [ {fisher_left_quan},{fisher_right_quan}]')\n",
    "print(f'p-value: {p_value}')"
   ]
  },
  {
   "cell_type": "markdown",
   "id": "f9ba4b6b",
   "metadata": {},
   "source": [
    "# Correlation test"
   ]
  },
  {
   "cell_type": "markdown",
   "id": "5b2e91d2",
   "metadata": {},
   "source": [
    "## correlated gauss data"
   ]
  },
  {
   "cell_type": "code",
   "execution_count": 58,
   "id": "41aee504",
   "metadata": {},
   "outputs": [
    {
     "name": "stdout",
     "output_type": "stream",
     "text": [
      "t statistic value: 776.7368178139583\n",
      "critical values: [ -1.9718962236316093,1.9718962236316089]\n",
      "p-value: 0.0\n"
     ]
    }
   ],
   "source": [
    "n_x_gauss = 200\n",
    "\n",
    "x_gauss = stat.norm.rvs(loc=3, scale=12**0.5,size=n_x_gauss)\n",
    "y = 5 * x_gauss + 0.1*np.random.default_rng().uniform(low= -6, high=6, size=n_x_gauss)\n",
    "ro, _ = stat.pearsonr(x_gauss, y)\n",
    "\n",
    "t = ro / (1 - ro**2)**0.5 * (n_x_gauss - 2)**0.5\n",
    "t_right_quant = stat.t.ppf(1-alpha/2, df=n_x_gauss)\n",
    "t_left_quant = stat.t.ppf(alpha/2, df=n_x_gauss)\n",
    "p_value = 2 * stat.norm.cdf(-np.abs(t))\n",
    "\n",
    "print(f't statistic value: {t}')\n",
    "print(f'critical values: [ {t_left_quant},{t_right_quant}]')\n",
    "print(f'p-value: {p_value}')"
   ]
  },
  {
   "cell_type": "markdown",
   "id": "00a0e773",
   "metadata": {},
   "source": [
    "## uncorrelated gauss data"
   ]
  },
  {
   "cell_type": "code",
   "execution_count": 77,
   "id": "db06cd89",
   "metadata": {},
   "outputs": [
    {
     "name": "stdout",
     "output_type": "stream",
     "text": [
      "t statistic value: -0.20837225894268296\n",
      "critical values: [ -1.983971518449634,1.9839715184496334]\n",
      "p-value: 0.8349383150835028\n"
     ]
    }
   ],
   "source": [
    "n_x_gauss = 200\n",
    "\n",
    "x_gauss = stat.norm.rvs(loc=3, scale=12**0.5,size=n_x_gauss)\n",
    "x1_gauss = x_gauss[:n_x_gauss//2]\n",
    "x2_gauss = x_gauss[n_x_gauss//2:]\n",
    "\n",
    "ro, _ = stat.pearsonr(x1_gauss, x2_gauss)\n",
    "\n",
    "t = ro / (1 - ro**2)**0.5 * (n_x_gauss//2 - 2)**0.5\n",
    "t_right_quant = stat.t.ppf(1-alpha/2, df=n_x_gauss//2)\n",
    "t_left_quant = stat.t.ppf(alpha/2, df=n_x_gauss//2)\n",
    "p_value = 2 * stat.norm.cdf(-np.abs(t))\n",
    "\n",
    "print(f't statistic value: {t}')\n",
    "print(f'critical values: [ {t_left_quant},{t_right_quant}]')\n",
    "print(f'p-value: {p_value}')"
   ]
  },
  {
   "cell_type": "markdown",
   "id": "9c8c78c6",
   "metadata": {},
   "source": [
    "# Goodness-of-fit tests"
   ]
  },
  {
   "cell_type": "markdown",
   "id": "7404b011",
   "metadata": {},
   "source": [
    "## chi square test for gauss"
   ]
  },
  {
   "cell_type": "code",
   "execution_count": 86,
   "id": "92e5f498",
   "metadata": {},
   "outputs": [
    {
     "name": "stdout",
     "output_type": "stream",
     "text": [
      "chi2 statistic value: 9.995529207543964\n",
      "critical value: 12.591587243743977\n",
      "p-value: 0.12484042055392908\n"
     ]
    }
   ],
   "source": [
    "n_x_gauss = 400\n",
    "x_gauss = stat.norm.rvs(loc=5, scale=7**0.5,size=n_x_gauss)\n",
    "\n",
    "chi2_normality_test(x_gauss)"
   ]
  },
  {
   "cell_type": "code",
   "execution_count": 90,
   "id": "094c6f38",
   "metadata": {},
   "outputs": [
    {
     "name": "stdout",
     "output_type": "stream",
     "text": [
      "chi2 statistic value: 3.723459744578435\n",
      "critical value: 12.591587243743977\n",
      "p-value: 0.714040384307126\n"
     ]
    }
   ],
   "source": [
    "x_gauss_uni_noise = x_gauss + np.random.default_rng().uniform(low=-6, high=6, size=n_x_gauss)\n",
    "chi2_normality_test(x_gauss_uni_noise)"
   ]
  },
  {
   "cell_type": "code",
   "execution_count": 96,
   "id": "546394dd",
   "metadata": {},
   "outputs": [
    {
     "name": "stdout",
     "output_type": "stream",
     "text": [
      "chi2 statistic value: 12.207449850313065\n",
      "critical value: 12.591587243743977\n",
      "p-value: 0.057497673423561935\n"
     ]
    }
   ],
   "source": [
    "# noise must be small as otherwise plug-in estimations for variance will cause zero division\n",
    "x_gauss_cauchy_noise = x_gauss + 0.01 * stat.cauchy.rvs(loc=0, scale=1, size=n_x_gauss)\n",
    "chi2_normality_test(x_gauss_cauchy_noise)"
   ]
  },
  {
   "cell_type": "markdown",
   "id": "184ad162",
   "metadata": {},
   "source": [
    "## Kolmogorov test"
   ]
  },
  {
   "cell_type": "code",
   "execution_count": 97,
   "id": "3710e2ba",
   "metadata": {},
   "outputs": [
    {
     "name": "stdout",
     "output_type": "stream",
     "text": [
      "k statistic value: 0.5948636496082882\n",
      "critical value: 1.3580986393225505\n",
      "p-value: 0.8710099238126052\n"
     ]
    }
   ],
   "source": [
    "kolmogorov_normality_test(x_gauss)"
   ]
  },
  {
   "cell_type": "code",
   "execution_count": 98,
   "id": "30632404",
   "metadata": {},
   "outputs": [
    {
     "name": "stdout",
     "output_type": "stream",
     "text": [
      "k statistic value: 0.6377335104102166\n",
      "critical value: 1.3580986393225505\n",
      "p-value: 0.8107408166482977\n"
     ]
    }
   ],
   "source": [
    "kolmogorov_normality_test(x_gauss_uni_noise)"
   ]
  },
  {
   "cell_type": "code",
   "execution_count": 99,
   "id": "4969de14",
   "metadata": {},
   "outputs": [
    {
     "name": "stdout",
     "output_type": "stream",
     "text": [
      "k statistic value: 0.5796066295834168\n",
      "critical value: 1.3580986393225505\n",
      "p-value: 0.8900794464490961\n"
     ]
    }
   ],
   "source": [
    "kolmogorov_normality_test(x_gauss_cauchy_noise)"
   ]
  },
  {
   "cell_type": "markdown",
   "id": "9552d654",
   "metadata": {},
   "source": [
    "# kolmogorov-smirnov test "
   ]
  },
  {
   "cell_type": "code",
   "execution_count": 100,
   "id": "46b44b26",
   "metadata": {},
   "outputs": [
    {
     "name": "stdout",
     "output_type": "stream",
     "text": [
      "k statistic value: 0.09499999999999997\n",
      "critical value: 0.13581015157406195\n",
      "p-value: 0.3274854844795595\n"
     ]
    }
   ],
   "source": [
    "x1_gauss = x_gauss[:n_x_gauss // 2]\n",
    "x2_gauss = x_gauss[n_x_gauss // 2:]\n",
    "KS_test(x1_gauss, x2_gauss)"
   ]
  },
  {
   "cell_type": "code",
   "execution_count": 101,
   "id": "577facca",
   "metadata": {},
   "outputs": [
    {
     "name": "stdout",
     "output_type": "stream",
     "text": [
      "k statistic value: 0.08999999999999997\n",
      "critical value: 0.13581015157406195\n",
      "p-value: 0.3927307079406548\n"
     ]
    }
   ],
   "source": [
    "x1_uni_noise = x_gauss_uni_noise[:n_x_gauss // 2]\n",
    "x2_uni_noise = x_gauss_uni_noise[n_x_gauss // 2:]\n",
    "KS_test(x1_uni_noise, x2_uni_noise)"
   ]
  },
  {
   "cell_type": "code",
   "execution_count": 102,
   "id": "4613d004",
   "metadata": {},
   "outputs": [
    {
     "name": "stdout",
     "output_type": "stream",
     "text": [
      "k statistic value: 0.09999999999999998\n",
      "critical value: 0.13581015157406195\n",
      "p-value: 0.2699996716773547\n"
     ]
    }
   ],
   "source": [
    "x1_cauchy_noise = x_gauss_cauchy_noise[:n_x_gauss // 2]\n",
    "x2_cauchy_noise = x_gauss_cauchy_noise[n_x_gauss // 2:]\n",
    "KS_test(x1_cauchy_noise, x2_cauchy_noise)"
   ]
  },
  {
   "cell_type": "code",
   "execution_count": null,
   "id": "ec4ce58b",
   "metadata": {},
   "outputs": [],
   "source": []
  },
  {
   "cell_type": "code",
   "execution_count": null,
   "id": "f0bae445",
   "metadata": {},
   "outputs": [],
   "source": []
  },
  {
   "cell_type": "code",
   "execution_count": null,
   "id": "8b34e49e",
   "metadata": {},
   "outputs": [],
   "source": []
  }
 ],
 "metadata": {
  "interpreter": {
   "hash": "0f67bec70529903dd5a0665b4076952d78956f8a31fa5f4061a06d0c3ccbb41e"
  },
  "kernelspec": {
   "display_name": "Python 3 (ipykernel)",
   "language": "python",
   "name": "python3"
  },
  "language_info": {
   "codemirror_mode": {
    "name": "ipython",
    "version": 3
   },
   "file_extension": ".py",
   "mimetype": "text/x-python",
   "name": "python",
   "nbconvert_exporter": "python",
   "pygments_lexer": "ipython3",
   "version": "3.10.2"
  }
 },
 "nbformat": 4,
 "nbformat_minor": 5
}
