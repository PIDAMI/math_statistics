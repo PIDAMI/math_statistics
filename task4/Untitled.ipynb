{
 "cells": [
  {
   "cell_type": "code",
   "execution_count": 16,
   "source": [
    "import scipy.stats as stat\n",
    "import matplotlib.pyplot as plt\n",
    "import numpy as np\n",
    "import math\n",
    "import itertools"
   ],
   "outputs": [],
   "metadata": {}
  },
  {
   "cell_type": "code",
   "execution_count": 19,
   "source": [
    "alpha = 0.05\n",
    "k = 8\n",
    "u_half_alpha = -stat.norm.ppf(alpha / 2)"
   ],
   "outputs": [],
   "metadata": {}
  },
  {
   "cell_type": "code",
   "execution_count": 14,
   "source": [
    "def in_range(x, interval):\n",
    "    a, b = interval\n",
    "    if a <= x <= b:\n",
    "        return True\n",
    "    return False\n",
    "\n",
    "\n",
    "def pairwise(iterable):\n",
    "    \"s -> (s0, s1), (s1, s2), (s2, s3), ...\"\n",
    "    a, b = itertools.tee(iterable)\n",
    "    next(b, None)\n",
    "    return zip(a, b)\n",
    "\n",
    "\n",
    "def group_data(data, k):\n",
    "    x0 = math.floor(min(data))\n",
    "    xn = math.ceil(max(data))\n",
    "    bounds = [x0 + i * (xn - x0) / k for i in range(k + 1)]\n",
    "    intervals = list(pairwise(bounds))\n",
    "    invervals_mids = [(a + b) / 2 for (a, b) in intervals]\n",
    "    grouped = np.zeros(np.size(data))\n",
    "    for i in range(np.size(data)):\n",
    "        entry_group = [j for j in range(k) if in_range(data[i], intervals[j])][0]\n",
    "        grouped[i] = invervals_mids[entry_group]\n",
    "    return grouped"
   ],
   "outputs": [],
   "metadata": {}
  },
  {
   "cell_type": "markdown",
   "source": [
    "# Simple hypothesis"
   ],
   "metadata": {}
  },
  {
   "cell_type": "markdown",
   "source": [
    "## Homogeneity test for normal's expectation"
   ],
   "metadata": {}
  },
  {
   "cell_type": "markdown",
   "source": [
    "$t = \\frac{\\overline{x_{n1}} - \\overline{y_{n2}}}{s \\sqrt{1/n1 + 1/n2}} \\in t_{n1+n2-2}$\n",
    "\n",
    "$p-value = P(|T| > |t|) = 1 - P(|T| \\le |t|) = 1 - 2 F_{t_{n1+n2-2}}(t)$"
   ],
   "metadata": {}
  },
  {
   "cell_type": "code",
   "execution_count": 15,
   "source": [
    "mu_x = 5\n",
    "sigma2_x = 7\n",
    "n_x = 200\n",
    "\n",
    "mu_y = 5\n",
    "sigma2_y = 9\n",
    "n_y = 300\n",
    "\n",
    "x = stat.norm.rvs(loc=mu_x, scale=sigma2_x**0.5,size=n_x)\n",
    "y = stat.norm.rvs(loc=mu_y, scale=sigma2_y**0.5,size=n_y)\n",
    "\n",
    "s2 = ((n_x - 1) * np.var(x) + (n_y-2) * np.var(y)) / (n_x + n_y - 2)\n",
    "t = (np.mean(x) - np.mean(y)) / (s2**0.5 * (1/n_x + 1/n_y)**0.5)\n",
    "t_half_alpha = stat.chi2.ppf(1-alpha/2, df=n_x+n_y-2)\n",
    "p_value = 1 - 2*stat.chi2.cdf(t, df=n_x+n_y-2)\n",
    "print(f't statistic value: {t}')\n",
    "print(f'critical values: [ -{t_half_alpha},{t_half_alpha}]')\n",
    "print(f'p-value: {p_value}')\n"
   ],
   "outputs": [
    {
     "output_type": "stream",
     "name": "stdout",
     "text": [
      "t statistic value: -0.8734691941832146\n",
      "critical values: [ -561.7274004072037,561.7274004072037]\n",
      "p-value: 1.0\n"
     ]
    }
   ],
   "metadata": {}
  },
  {
   "cell_type": "code",
   "execution_count": 22,
   "source": [
    "x_grouped = group_data(x,k)\n",
    "x_uniq = np.unique(x_grouped)\n",
    "x_freq = np.array([np.count_nonzero(x_grouped == val) for val in x_uniq])\n",
    "print(*x_freq)"
   ],
   "outputs": [
    {
     "output_type": "stream",
     "name": "stdout",
     "text": [
      "7 15 40 50 43 31 10 4\n"
     ]
    }
   ],
   "metadata": {}
  }
 ],
 "metadata": {
  "kernelspec": {
   "name": "python3",
   "display_name": "Python 3.10.2 64-bit ('venv': venv)"
  },
  "language_info": {
   "codemirror_mode": {
    "name": "ipython",
    "version": 3
   },
   "file_extension": ".py",
   "mimetype": "text/x-python",
   "name": "python",
   "nbconvert_exporter": "python",
   "pygments_lexer": "ipython3",
   "version": "3.10.2"
  },
  "interpreter": {
   "hash": "0f67bec70529903dd5a0665b4076952d78956f8a31fa5f4061a06d0c3ccbb41e"
  }
 },
 "nbformat": 4,
 "nbformat_minor": 5
}