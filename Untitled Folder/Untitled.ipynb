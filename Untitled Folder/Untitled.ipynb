{
 "cells": [
  {
   "cell_type": "code",
   "execution_count": 2,
   "id": "9422a1f0",
   "metadata": {},
   "outputs": [],
   "source": [
    "import scipy.stats as stat\n",
    "import matplotlib.pyplot as plt\n",
    "import numpy as np"
   ]
  },
  {
   "cell_type": "markdown",
   "id": "91f27835",
   "metadata": {},
   "source": [
    "# Confidence intervals"
   ]
  },
  {
   "cell_type": "markdown",
   "id": "ae648171",
   "metadata": {},
   "source": [
    "## Poisson parameter\n",
    "$\\overline{x_n} - u_{\\alpha/2}n^{-0.5} \\le \\lambda \\le \\overline{x_n} + u_{\\alpha/2}n^{-0.5}$ "
   ]
  },
  {
   "cell_type": "code",
   "execution_count": 5,
   "id": "6a4efe0a",
   "metadata": {},
   "outputs": [],
   "source": [
    "n = 200\n",
    "alpha = 0.05\n",
    "u_half_alpha = -stat.norm.ppf(alpha / 2)"
   ]
  },
  {
   "cell_type": "code",
   "execution_count": 9,
   "id": "ddb34c5e",
   "metadata": {},
   "outputs": [
    {
     "name": "stdout",
     "output_type": "stream",
     "text": [
      "lower bound:5.856409617565032\n",
      "higher bound:6.133590382434968\n"
     ]
    }
   ],
   "source": [
    "poisson_param = 6\n",
    "poisson = np.random.default_rng().poisson(poisson_param, n)\n",
    "poission_high = np.mean(poisson) + u_half_alpha / n**0.5\n",
    "poission_low = np.mean(poisson) - u_half_alpha / n**0.5\n",
    "\n",
    "print(f'lower bound:{poission_low}')\n",
    "print(f'higher bound:{poission_high}')"
   ]
  },
  {
   "cell_type": "markdown",
   "id": "418b7d7c",
   "metadata": {},
   "source": [
    "## Binomial parameter\n",
    "$\\frac{m}{n} - \\frac{u_{\\alpha/2}}{n}\\sqrt{\\frac{m(n-m)}{n}}\\le \n",
    "    p \n",
    "\\le \\frac{m}{n} + \\frac{u_{\\alpha/2}}{n}\\sqrt{\\frac{m(n-m)}{n}}$"
   ]
  },
  {
   "cell_type": "code",
   "execution_count": 15,
   "id": "29f4973d",
   "metadata": {},
   "outputs": [
    {
     "name": "stdout",
     "output_type": "stream",
     "text": [
      "lower bound:0.31273010709999843\n",
      "higher bound:0.4472698929000016\n"
     ]
    }
   ],
   "source": [
    "p = 0.4\n",
    "binom = np.random.binomial(n=n, p=p)\n",
    "m=np.sum(binom)\n",
    "binom_low = m / n - u_half_alpha * (m * (n - m) / n)**0.5 / n\n",
    "binom_high =  m / n + u_half_alpha * (m * (n - m) / n)**0.5 / n\n",
    "\n",
    "\n",
    "print(f'lower bound:{binom_low}')\n",
    "print(f'higher bound:{binom_high}')"
   ]
  },
  {
   "cell_type": "markdown",
   "id": "46413456",
   "metadata": {},
   "source": [
    "## Exponential's parameter\n",
    "\n",
    "$\\frac{1}{\\overline{x_n}} - \\frac{u_{\\alpha/2}}{\\overline{x_n}\\sqrt{n}} \\le \n",
    "\\lambda\n",
    "\\le \\frac{1}{\\overline{x_n}} + \\frac{u_{\\alpha/2}}{\\overline{x_n}\\sqrt{n}}\n",
    "$"
   ]
  },
  {
   "cell_type": "code",
   "execution_count": 21,
   "id": "fd11ea26",
   "metadata": {},
   "outputs": [
    {
     "name": "stdout",
     "output_type": "stream",
     "text": [
      "lower bound:6.918533245228179\n",
      "higher bound:9.144749783315124\n"
     ]
    }
   ],
   "source": [
    "exp_param = 7\n",
    "exp = np.random.default_rng().exponential(1 / exp_param, n)\n",
    "exp_low = (1 - u_half_alpha / n**0.5) / np.mean(exp)\n",
    "exp_high = (1 + u_half_alpha / n**0.5) / np.mean(exp)\n",
    "\n",
    "print(f'lower bound:{exp_low}')\n",
    "print(f'higher bound:{exp_high}')"
   ]
  },
  {
   "cell_type": "markdown",
   "id": "b4d46c16",
   "metadata": {},
   "source": []
  }
 ],
 "metadata": {
  "kernelspec": {
   "display_name": "Python 3 (ipykernel)",
   "language": "python",
   "name": "python3"
  },
  "language_info": {
   "codemirror_mode": {
    "name": "ipython",
    "version": 3
   },
   "file_extension": ".py",
   "mimetype": "text/x-python",
   "name": "python",
   "nbconvert_exporter": "python",
   "pygments_lexer": "ipython3",
   "version": "3.10.2"
  }
 },
 "nbformat": 4,
 "nbformat_minor": 5
}
