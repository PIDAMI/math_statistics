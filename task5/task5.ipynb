{
 "cells": [
  {
   "cell_type": "code",
   "execution_count": 4,
   "source": [
    "import scipy.stats as stat\n",
    "import matplotlib.pyplot as plt\n",
    "import numpy as np\n",
    "import math\n",
    "import itertools"
   ],
   "outputs": [],
   "metadata": {}
  },
  {
   "cell_type": "code",
   "execution_count": 40,
   "source": [
    "def sign_test_exact(x, y):\n",
    "    n = np.size(x)\n",
    "    dif = x - y\n",
    "    w = min(np.count_nonzero(dif > 0), np.count_nonzero(dif < 0))\n",
    "    t = 2**(-n) * sum([math.comb(n, j) for j in range(w+1)])\n",
    "    return t\n",
    "\n",
    "def sign_test_assymp(x, y):\n",
    "    n = np.size(x)\n",
    "    dif = x - y\n",
    "    w = min(np.count_nonzero(dif > 0), np.count_nonzero(dif < 0))\n",
    "    t = (w - n / 2) / (n / 4)**0.5\n",
    "    p_value = 2 * stat.norm.cdf(-np.abs(t))\n",
    "    return p_value\n",
    "\n"
   ],
   "outputs": [],
   "metadata": {}
  },
  {
   "cell_type": "code",
   "execution_count": 50,
   "source": [
    "def pairwise(iterable):\n",
    "    \"s -> (s0, s1), (s1, s2), (s2, s3), ...\"\n",
    "    a, b = itertools.tee(iterable)\n",
    "    next(b, None)\n",
    "    return zip(a, b)\n",
    "\n",
    "def in_interval(t, interval):\n",
    "    a, b = interval\n",
    "    return a <= t <= b\n",
    "\n",
    "def wilcoxon_test(x, y):\n",
    "    dif = np.abs(x - y)\n",
    "    n = np.size(dif)\n",
    "    k = n // 10\n",
    "    a = np.min(dif)\n",
    "    b = np.max(dif)\n",
    "    bounds = [a + (b - a) * i / k for i in range(k + 1)]\n",
    "    intervals = list(pairwise(bounds))\n",
    "    t = sum([np.sign(z) * [j for j in range(k) if in_interval(z, intervals[j])][0] for z in dif])\n",
    "    t = t / (n * (n + 1) * (2 * n + 1) / 6)**0.5\n",
    "    p_value = 2 * stat.norm.cdf(-np.abs(t))\n",
    "    return p_value\n",
    "    \n",
    "    "
   ],
   "outputs": [],
   "metadata": {}
  },
  {
   "cell_type": "code",
   "execution_count": 28,
   "source": [
    "alpha = 0.05"
   ],
   "outputs": [],
   "metadata": {}
  },
  {
   "cell_type": "markdown",
   "source": [
    "# Sign test"
   ],
   "metadata": {}
  },
  {
   "cell_type": "code",
   "execution_count": 42,
   "source": [
    "n = 20\n",
    "x = stat.norm.rvs(loc=0, scale=7**0.5,size=n)\n",
    "y1 = 5 * x + np.random.default_rng().uniform(low=-10, high=10, size=n)\n",
    "y2 = 5 * x + stat.expon.rvs(scale=1/20, size=n)\n",
    "print(f'uniform noise; exact: {sign_test_exact(x, y1)}, assymptotic: {sign_test_assymp(x, y1)}')\n",
    "print(f'exponential noise; exact: {sign_test_exact(x, y2)}, assymptotic: {sign_test_assymp(x, y2)}')\n"
   ],
   "outputs": [
    {
     "output_type": "stream",
     "name": "stdout",
     "text": [
      "\n",
      "uniform noise; exact: 0.41190147399902344, assymptotic: 0.6547208460185769\n",
      "exponential noise; exact: 0.2517223358154297, assymptotic: 0.37109336952269756\n"
     ]
    }
   ],
   "metadata": {}
  },
  {
   "cell_type": "markdown",
   "source": [
    "# Signed-rank test"
   ],
   "metadata": {}
  },
  {
   "cell_type": "code",
   "execution_count": 52,
   "source": [
    "n = 40\n",
    "x = stat.norm.rvs(loc=0, scale=7**0.5,size=n)\n",
    "y1 = 5 * x + np.random.default_rng().uniform(low=-10, high=10, size=n)\n",
    "y2 = 5 * x + stat.expon.rvs(scale=1/20, size=n)\n",
    "print(wilcoxon_test(x, y1))\n"
   ],
   "outputs": [
    {
     "output_type": "stream",
     "name": "stdout",
     "text": [
      "[ 0.86164328  7.0234902   2.60300356 20.21895272 10.34854707 15.28060727\n",
      "  1.99495584  2.04031348  4.35737185  8.12449381  8.44911256  8.24539951\n",
      " 15.53232938  1.56426638  2.5995798   3.14626483  0.1443494   2.11998802\n",
      "  7.00640922 11.36991721 11.96283145 14.86272455  2.83592459 11.66822843\n",
      "  0.48018782  2.09154794 22.64646841  0.37308999  3.97685533 10.94306857\n",
      " 12.69490682  2.75333102  0.89348807 14.22627641  5.05772725  4.63020138\n",
      " 13.45009005  5.55265829  0.22917828  2.71567041]\n",
      "[(0.14434940049191547, 5.769879153945356), (5.769879153945356, 11.395408907398798), (11.395408907398798, 17.020938660852238), (17.020938660852238, 22.64646841430568)]\n",
      "[0]\n",
      "[1]\n",
      "[0]\n",
      "[3]\n",
      "[1]\n",
      "[2]\n",
      "[0]\n",
      "[0]\n",
      "[0]\n",
      "[1]\n",
      "[1]\n",
      "[1]\n",
      "[2]\n",
      "[0]\n",
      "[0]\n",
      "[0]\n",
      "[0]\n",
      "[0]\n",
      "[1]\n",
      "[1]\n",
      "[2]\n",
      "[2]\n",
      "[0]\n",
      "[2]\n",
      "[0]\n",
      "[0]\n",
      "[3]\n",
      "[0]\n",
      "[0]\n",
      "[1]\n",
      "[2]\n",
      "[0]\n",
      "[0]\n",
      "[2]\n",
      "[0]\n",
      "[0]\n",
      "[2]\n",
      "[0]\n",
      "[0]\n",
      "[0]\n",
      "0.8402142310487368\n"
     ]
    }
   ],
   "metadata": {}
  },
  {
   "cell_type": "code",
   "execution_count": null,
   "source": [],
   "outputs": [],
   "metadata": {}
  }
 ],
 "metadata": {
  "kernelspec": {
   "name": "python3",
   "display_name": "Python 3.10.4 64-bit ('venv': venv)"
  },
  "language_info": {
   "name": "python",
   "version": "3.10.4",
   "mimetype": "text/x-python",
   "codemirror_mode": {
    "name": "ipython",
    "version": 3
   },
   "pygments_lexer": "ipython3",
   "nbconvert_exporter": "python",
   "file_extension": ".py"
  },
  "interpreter": {
   "hash": "0f67bec70529903dd5a0665b4076952d78956f8a31fa5f4061a06d0c3ccbb41e"
  }
 },
 "nbformat": 4,
 "nbformat_minor": 5
}