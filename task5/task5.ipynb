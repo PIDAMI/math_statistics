{
 "cells": [
  {
   "cell_type": "code",
   "execution_count": 47,
   "source": [
    "import scipy.stats as stat\n",
    "import matplotlib.pyplot as plt\n",
    "import numpy as np\n",
    "import math\n",
    "import itertools\n",
    "import pandas as pd\n",
    " \n"
   ],
   "outputs": [],
   "metadata": {}
  },
  {
   "cell_type": "code",
   "execution_count": 48,
   "source": [
    "def sign_test_exact(x, y):\n",
    "    n = np.size(x)\n",
    "    dif = x - y\n",
    "    w = min(np.count_nonzero(dif > 0), np.count_nonzero(dif < 0))\n",
    "    t = 2**(-n) * sum([math.comb(n, j) for j in range(w+1)])\n",
    "    return t\n",
    "\n",
    "def sign_test_assymp(x, y):\n",
    "    n = np.size(x)\n",
    "    dif = x - y\n",
    "    w = min(np.count_nonzero(dif > 0), np.count_nonzero(dif < 0))\n",
    "    t = (w - n / 2) / (n / 4)**0.5\n",
    "    p_value = 2 * stat.norm.cdf(-np.abs(t))\n",
    "    return p_value\n",
    "\n"
   ],
   "outputs": [],
   "metadata": {}
  },
  {
   "cell_type": "code",
   "execution_count": 49,
   "source": [
    "def pairwise(iterable):\n",
    "    \"s -> (s0, s1), (s1, s2), (s2, s3), ...\"\n",
    "    a, b = itertools.tee(iterable)\n",
    "    next(b, None)\n",
    "    return zip(a, b)\n",
    "\n",
    "def in_interval(t, interval):\n",
    "    a, b = interval\n",
    "    return a <= t <= b\n",
    "\n",
    "def wilcoxon_test(x, y):\n",
    "    dif = np.abs(x - y)\n",
    "    n = np.size(dif)\n",
    "    k = n // 10\n",
    "    a = np.min(dif)\n",
    "    b = np.max(dif)\n",
    "    bounds = [a + (b - a) * i / k for i in range(k + 1)]\n",
    "    intervals = list(pairwise(bounds))\n",
    "    t = sum([np.sign(z) * [j for j in range(k) if in_interval(z, intervals[j])][0] for z in dif])\n",
    "    t = t / (n * (n + 1) * (2 * n + 1) / 6)**0.5\n",
    "    p_value = 2 * stat.norm.cdf(-np.abs(t))\n",
    "    return p_value\n",
    "    \n",
    "    "
   ],
   "outputs": [],
   "metadata": {}
  },
  {
   "cell_type": "code",
   "execution_count": 50,
   "source": [
    "def kendall_correl(x, y):\n",
    "    concerted = 0\n",
    "    n = np.size(x)\n",
    "    for i in range(n):\n",
    "        for j in range(i, n):\n",
    "            if (x[i] < x[j] and y[i] < y[j]) or (x[i] > x[j] and y[i] > y[j]):\n",
    "                concerted += 1\n",
    "    r = (concerted - (math.comb(n,2) - concerted)) / math.comb(n,2)\n",
    "    t = r / (2 * (2 * n + 5) / (9 * n * (n - 1)))**0.5\n",
    "    p_value = 2 * stat.norm.cdf(-np.abs(t))\n",
    "    return r, p_value\n"
   ],
   "outputs": [],
   "metadata": {}
  },
  {
   "cell_type": "code",
   "execution_count": 312,
   "source": [
    "def autocorrelation(data):\n",
    "    n = np.size(data)\n",
    "    x1 = data\n",
    "    x2 = np.zeros(n)\n",
    "    for i in range(n - 1):\n",
    "        x2[i] = x1[i+1]\n",
    "    x2[n-1] = data[0]\n",
    "    return stat.pearsonr(x1, x2)\n",
    "\n",
    "def xu_test(x):\n",
    "    x.sort()\n",
    "    n = np.size(x)\n",
    "    median = np.median(x)\n",
    "    t = sum([(i - 1) * (x[i] - median) ** 2 for i in range(n)]) / (\n",
    "            (n - 1) * sum([(x[i] - median) ** 2 for i in range(n)]))\n",
    "    z = (t - 1 / 2) / ((n + 1) / (6 * (n - 1) * (n + 2))) ** 0.5\n",
    "    return z, 2 * stat.norm.cdf(-np.abs(z))\n"
   ],
   "outputs": [],
   "metadata": {}
  },
  {
   "cell_type": "code",
   "execution_count": 52,
   "source": [
    "alpha = 0.05"
   ],
   "outputs": [],
   "metadata": {}
  },
  {
   "cell_type": "markdown",
   "source": [
    "# Sign test"
   ],
   "metadata": {}
  },
  {
   "cell_type": "code",
   "execution_count": 53,
   "source": [
    "n = 20\n",
    "x = stat.norm.rvs(loc=0, scale=7**0.5,size=n)\n",
    "y1 = 5 * x + np.random.default_rng().uniform(low=-10, high=10, size=n)\n",
    "y2 = 5 * x + stat.expon.rvs(scale=1/20, size=n)\n",
    "print(f'uniform noise; exact: {sign_test_exact(x, y1)}, assymptotic: {sign_test_assymp(x, y1)}')\n",
    "print(f'exponential noise; exact: {sign_test_exact(x, y2)}, assymptotic: {sign_test_assymp(x, y2)}')\n"
   ],
   "outputs": [
    {
     "output_type": "stream",
     "name": "stdout",
     "text": [
      "uniform noise; exact: 0.2517223358154297, assymptotic: 0.37109336952269756\n",
      "exponential noise; exact: 0.5880985260009766, assymptotic: 1.0\n"
     ]
    }
   ],
   "metadata": {}
  },
  {
   "cell_type": "markdown",
   "source": [
    "# Signed-rank test"
   ],
   "metadata": {}
  },
  {
   "cell_type": "code",
   "execution_count": 54,
   "source": [
    "n = 100\n",
    "x = stat.norm.rvs(loc=0, scale=7**0.5,size=n)\n",
    "y1 = 5 * x + np.random.default_rng().uniform(low=-10, high=10, size=n)\n",
    "y2 = 5 * x + stat.expon.rvs(scale=1/20, size=n)\n",
    "print(f'uniform noise: wilcoxon: {wilcoxon_test(x, y1)}, sign test: {sign_test_assymp(x, y1)}')\n",
    "print(f'exponential noise: wilcoxon: {wilcoxon_test(x, y2)}, sign test: {sign_test_assymp(x, y2)}')\n"
   ],
   "outputs": [
    {
     "output_type": "stream",
     "name": "stdout",
     "text": [
      "uniform noise: wilcoxon: 0.7039937435338861, sign test: 0.4237107971667934\n",
      "exponential noise: wilcoxon: 0.7245170840277761, sign test: 0.4237107971667934\n"
     ]
    }
   ],
   "metadata": {}
  },
  {
   "cell_type": "markdown",
   "source": [
    "# Correlation analysis"
   ],
   "metadata": {}
  },
  {
   "cell_type": "code",
   "execution_count": 55,
   "source": [
    "r_pearson, p_pearson = stat.pearsonr(x, y1)\n",
    "r_kendal, p_kendall = kendall_correl(x,y1)\n",
    "print('uniform noise')\n",
    "print(f'Pearson: correlation {r_pearson}, p-value {p_pearson}')\n",
    "print(f'Kendall: correlation {r_kendal}, p-value {p_kendall}\\n')\n",
    "\n",
    "r_pearson, p_pearson = stat.pearsonr(x, y2)\n",
    "r_kendal, p_kendall = kendall_correl(x, y2)\n",
    "print('exponential noise')\n",
    "print(f'Pearson: correlation {r_pearson}, p-value {p_pearson}')\n",
    "print(f'Kendall: correlation {r_kendal}, p-value {p_kendall}')\n"
   ],
   "outputs": [
    {
     "output_type": "stream",
     "name": "stdout",
     "text": [
      "uniform noise\n",
      "Pearson: correlation 0.8718980834674352, p-value 3.7622481163703714e-32\n",
      "Kendall: correlation 0.6545454545454545, p-value 4.958979438321728e-22\n",
      "\n",
      "exponential noise\n",
      "Pearson: correlation 0.9999917937241183, p-value 2.810377480595811e-236\n",
      "Kendall: correlation 0.997979797979798, p-value 5.407019607857424e-49\n"
     ]
    }
   ],
   "metadata": {}
  },
  {
   "cell_type": "markdown",
   "source": [
    "# Autocorrelation"
   ],
   "metadata": {}
  },
  {
   "cell_type": "code",
   "execution_count": 278,
   "source": [
    "n = 200\n",
    "x1 = stat.norm.rvs(loc=5, scale=7**0.5,size=n)\n",
    "x2 = np.zeros(n)\n",
    "for i in range(n - 1):\n",
    "    x2[i] = x1[i] + 0.1 * x1[i + 1]\n",
    "\n",
    "cor1, p_value1 = autocorrelation(x1)\n",
    "print(\"random sample\")\n",
    "print(f'autocorrelation with lag 1: {cor1}; p-value:{p_value1}\\n')\n",
    "\n",
    "cor2, p_value2 = autocorrelation(x2)\n",
    "print('autocorrelated sample')\n",
    "print(f'autocorrelation with lag 1: {cor2}; p-value:{p_value2}')\n"
   ],
   "outputs": [
    {
     "output_type": "stream",
     "name": "stdout",
     "text": [
      "random sample\n",
      "autocorrelation with lag 1: -0.11877573450327925; p-value:0.09390501527016575\n",
      "\n",
      "autocorrelated sample\n",
      "autocorrelation with lag 1: -0.04141856598620092; p-value:0.5603474833309279\n"
     ]
    }
   ],
   "metadata": {}
  },
  {
   "cell_type": "code",
   "execution_count": 319,
   "source": [
    "x1 = stat.norm.rvs(loc=5, scale=7**0.5,size=n)\n",
    "t, p_value = xu_test(x1)\n",
    "print('same dispersion sample')\n",
    "print(f'xu statistic: {t}, p-value {p_value}\\n')\n",
    "\n",
    "x2 = np.copy(x1)\n",
    "for i in range(n//2,n):\n",
    "        x2[i] *= 1.5\n",
    "\n",
    "t, p_value = xu_test(x2)\n",
    "print('different dispersion sample')\n",
    "print(f'xu statistic: {t}, p-value {p_value}')"
   ],
   "outputs": [
    {
     "output_type": "stream",
     "name": "stdout",
     "text": [
      "same dispersion sample\n",
      "xu statistic: 0.5524054536459054, p-value 0.580670594981578\n",
      "\n",
      "different dispersion sample\n",
      "xu statistic: 4.327213653225434, p-value 1.510074687413524e-05\n"
     ]
    }
   ],
   "metadata": {}
  }
 ],
 "metadata": {
  "kernelspec": {
   "name": "python3",
   "display_name": "Python 3.10.4 64-bit ('venv': venv)"
  },
  "language_info": {
   "name": "python",
   "version": "3.10.4",
   "mimetype": "text/x-python",
   "codemirror_mode": {
    "name": "ipython",
    "version": 3
   },
   "pygments_lexer": "ipython3",
   "nbconvert_exporter": "python",
   "file_extension": ".py"
  },
  "interpreter": {
   "hash": "0f67bec70529903dd5a0665b4076952d78956f8a31fa5f4061a06d0c3ccbb41e"
  }
 },
 "nbformat": 4,
 "nbformat_minor": 5
}