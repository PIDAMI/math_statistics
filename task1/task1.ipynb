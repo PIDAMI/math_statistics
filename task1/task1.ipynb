{
 "cells": [
  {
   "cell_type": "code",
   "execution_count": 3,
   "id": "7a422c0a",
   "metadata": {},
   "outputs": [],
   "source": [
    "import scipy.stats as stat\n",
    "import numpy as np\n",
    "import matplotlib.pyplot as plt\n",
    "import itertools"
   ]
  },
  {
   "cell_type": "code",
   "execution_count": 4,
   "id": "746d0883",
   "metadata": {},
   "outputs": [],
   "source": [
    "def pairwise(iterable):\n",
    "    \"s -> (s0, s1), (s1, s2), (s2, s3), ...\"\n",
    "    a, b = itertools.tee(iterable)\n",
    "    next(b, None)\n",
    "    return zip(a, b)\n",
    "def inner_product(x,y):\n",
    "    return sum(a * b for (a,b) in zip(x,y))"
   ]
  },
  {
   "cell_type": "markdown",
   "id": "340670a8",
   "metadata": {},
   "source": [
    "## Draw histogram"
   ]
  },
  {
   "cell_type": "code",
   "execution_count": 7,
   "id": "50342d9f",
   "metadata": {},
   "outputs": [
    {
     "name": "stdout",
     "output_type": "stream",
     "text": [
      "Interval boundaries:       20.0 35.0 50.0 65.0 80.0 95.0\n",
      "\n",
      "Corresponding frequencies: 80.0 170.0 165.0 70.0 15.0\n"
     ]
    },
    {
     "data": {
      "image/png": "[encoded data removed]",
      "text/plain": [
       "<Figure size 432x288 with 1 Axes>"
      ]
     },
     "metadata": {
      "needs_background": "light"
     },
     "output_type": "display_data"
    }
   ],
   "source": [
    "k = 5\n",
    "x_first = 20\n",
    "x_last = 95\n",
    "z = [x_first + i * (x_last - x_first) / k for i in range(k + 1)]\n",
    "z_mids = [(a + b) / 2 for (a,b) in pairwise(z)]\n",
    "n = [80.0, 170.0, 165.0, 70.0, 15.0]\n",
    "n_scaled = [x / sum(n) for x in n]\n",
    "print(\"Interval boundaries:      \",*z)\n",
    "print(\"\\nCorresponding frequencies:\", *n)\n",
    "\n",
    "plt.bar(z_mids,[x / (z[1] - z[0]) for x in n_scaled], width = 15, edgecolor = 'red')\n",
    "plt.show()    "
   ]
  },
  {
   "cell_type": "markdown",
   "id": "d4517752",
   "metadata": {},
   "source": [
    "## Compute estimation of expectation, variance, median and coef. of variance"
   ]
  },
  {
   "cell_type": "code",
   "execution_count": 8,
   "id": "83059c0b",
   "metadata": {},
   "outputs": [
    {
     "name": "stdout",
     "output_type": "stream",
     "text": [
      "Sample expectation: 50.6\n",
      "Sample variance: 231.39\n",
      "Sample median: 50.0\n",
      "Sample coefficient of variance: 0.30062270357519094\n"
     ]
    }
   ],
   "source": [
    "mean = inner_product(z_mids, n_scaled)\n",
    "variance = inner_product([(x - mean)**2 for x in z_mids], n_scaled)\n",
    "median = 50.0 # exactly half (250) values are less than 50\n",
    "coef_variance = variance**0.5 / mean\n",
    "print(f\"Sample expectation: {mean}\")\n",
    "print(f\"Sample variance: {variance}\")\n",
    "print(f\"Sample median: {median}\")\n",
    "print(f\"Sample coefficient of variance: {coef_variance}\")"
   ]
  },
  {
   "cell_type": "markdown",
   "id": "86035440",
   "metadata": {},
   "source": [
    "## Estimation values after adding fluctuations"
   ]
  },
  {
   "cell_type": "code",
   "execution_count": 9,
   "id": "3d8b433f",
   "metadata": {},
   "outputs": [
    {
     "name": "stdout",
     "output_type": "stream",
     "text": [
      "New sample expectation: 60.6\n",
      "New sample variance: 49126.73471999999\n",
      "New sample median: 50.0\n",
      "New sample coefficient of variance: 3.657516764079368\n"
     ]
    }
   ],
   "source": [
    "fluctuation = 5000\n",
    "\n",
    "new_mean = mean + fluctuation / sum(n)\n",
    "new_variance = inner_product([(x - new_mean)**2 for x in z_mids], n_scaled) + (fluctuation - new_mean)**2 / sum(n)\n",
    "new_median = 50.0 # new median is located somewhere in (50,65) interval but still is approximately 50\n",
    "new_coef_variance = new_variance**0.5 / new_mean\n",
    "print(f\"New sample expectation: {new_mean}\")\n",
    "print(f\"New sample variance: {new_variance}\")\n",
    "print(f\"New sample median: {new_median}\")\n",
    "print(f\"New sample coefficient of variance: {new_coef_variance}\")"
   ]
  },
  {
   "cell_type": "code",
   "execution_count": null,
   "id": "7cb23122",
   "metadata": {},
   "outputs": [],
   "source": []
  }
 ],
 "metadata": {
  "kernelspec": {
   "display_name": "Python 3 (ipykernel)",
   "language": "python",
   "name": "python3"
  },
  "language_info": {
   "codemirror_mode": {
    "name": "ipython",
    "version": 3
   },
   "file_extension": ".py",
   "mimetype": "text/x-python",
   "name": "python",
   "nbconvert_exporter": "python",
   "pygments_lexer": "ipython3",
   "version": "3.10.2"
  }
 },
 "nbformat": 4,
 "nbformat_minor": 5
}
